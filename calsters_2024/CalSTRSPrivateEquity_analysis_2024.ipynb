{
 "cells": [
  {
   "cell_type": "code",
   "execution_count": 109,
   "metadata": {},
   "outputs": [],
   "source": [
    "import pandas as pd\n",
    "import numpy as np\n",
    "import plotly.graph_objects as go\n",
    "from plotly.subplots import make_subplots\n",
    "from typing import Dict, List, Tuple, Optional\n",
    "from dataclasses import dataclass"
   ]
  },
  {
   "cell_type": "code",
   "execution_count": 110,
   "metadata": {},
   "outputs": [],
   "source": [
    "STRATEGIES = ['Venture Capital', 'Growth Equity', 'Private Equity']\n",
    "MONETARY_COLS = ['Capital Committed', 'Capital Contributed', 'Capital Distributed', 'Market Value']\n",
    "CALSTRS_PATH = 'CalSTRSPrivateEquityPerformanceReportFYE20241.csv'"
   ]
  },
  {
   "cell_type": "code",
   "execution_count": 150,
   "metadata": {},
   "outputs": [],
   "source": [
    "@dataclass\n",
    "class PlotStyle:\n",
    "    COLORS = {\n",
    "        'Venture Capital': 'rgb(30,144,255)',  # Blue\n",
    "        'Growth Equity': 'rgb(60,179,113)',    # Green\n",
    "        'Private Equity': 'rgb(200,30,30)'     # Red\n",
    "    }\n",
    "    FONT_FAMILY = \"Avenir\"\n",
    "    TITLE_SIZE = 25\n",
    "    AXIS_TITLE_SIZE = 18\n",
    "    AXIS_TICK_SIZE = 16\n",
    "    LEGEND_SIZE = 14\n",
    "    ANNOTATION_SIZE = 14\n",
    "    \n",
    "    @classmethod\n",
    "    def get_base_layout(cls, height: int = 800, title: str = \"\") -> dict:\n",
    "        return {\n",
    "            'height': height,\n",
    "            'title': {\n",
    "                'text': f\"<b>{title}</b>\",\n",
    "                'y': 0.95,\n",
    "                'x': 0.5,\n",
    "                'xanchor': 'center',\n",
    "                'yanchor': 'top'\n",
    "            },\n",
    "            'title_font': dict(family=cls.FONT_FAMILY, size=cls.TITLE_SIZE),\n",
    "            'margin': dict(b=50, l=50, r=50, t=100),\n",
    "            'plot_bgcolor': 'white',\n",
    "            'showlegend': True,\n",
    "            'legend': dict(\n",
    "                orientation=\"h\",\n",
    "                yanchor=\"bottom\",\n",
    "                y=-0.15,\n",
    "                xanchor=\"center\",\n",
    "                x=0.5,\n",
    "                font=dict(family=cls.FONT_FAMILY, size=cls.LEGEND_SIZE)\n",
    "            )\n",
    "        }\n",
    "    \n",
    "    @staticmethod\n",
    "    def calculate_tick_values(max_value: float) -> Tuple[np.ndarray, List[str]]:\n",
    "        tick_step = 0.5  # 0.5B intervals\n",
    "        max_billions = np.ceil(max_value / 1e9)\n",
    "        tick_values = np.arange(0, tick_step * (int(max_billions/tick_step) + 2), tick_step) * 1e9\n",
    "        tick_labels = [f\"${val/1e9:.1f}B\" if val > 0 else \"0\" for val in tick_values]\n",
    "        return tick_values, tick_labels\n",
    "\n",
    "class DataProcessor:\n",
    "    @staticmethod\n",
    "    def clean_data(df: pd.DataFrame) -> pd.DataFrame:\n",
    "        df = df.copy()\n",
    "        \n",
    "        for col in MONETARY_COLS:\n",
    "            df[col] = df[col].replace('[\\$,]', '', regex=True).replace('-', '0').astype(float)\n",
    "        \n",
    "        df['CalSTRS Since Inception IRR*'] = pd.to_numeric(df['CalSTRS Since Inception IRR*'], errors='coerce')\n",
    "        df['VY'] = pd.to_numeric(df['VY'], errors='coerce')\n",
    "        df['DPI'] = df['Capital Distributed'] / df['Capital Contributed']\n",
    "        \n",
    "        return df\n",
    "    \n",
    "    @staticmethod\n",
    "    def calculate_weighted_irr(group: pd.DataFrame) -> float:\n",
    "        total_capital = group['Capital Contributed'].sum()\n",
    "        if total_capital == 0:\n",
    "            return 0\n",
    "        weights = group['Capital Contributed'] / total_capital\n",
    "        return (group['CalSTRS Since Inception IRR*'] * weights).sum()\n",
    "\n",
    "class VisualizationGenerator:    \n",
    "    @staticmethod\n",
    "    def create_venture_capital_deployment_chart(df: pd.DataFrame) -> go.Figure:\n",
    "        vc_by_year = df[df['Fund Type'] == 'Venture Capital'].groupby('VY')['Capital Contributed'].sum()\n",
    "        total_by_year = df.groupby('VY')['Capital Contributed'].sum()\n",
    "        vc_percentage = (vc_by_year / total_by_year * 100).fillna(0)\n",
    "        \n",
    "        all_years = pd.Index(range(df['VY'].min(), df['VY'].max() + 1))\n",
    "        vc_by_year = vc_by_year.reindex(all_years, fill_value=0)\n",
    "        vc_percentage = vc_percentage.reindex(all_years, fill_value=0)\n",
    "        \n",
    "        fig = go.Figure()\n",
    "        \n",
    "        fig.add_trace(\n",
    "            go.Bar(\n",
    "                x=vc_by_year.index,\n",
    "                y=vc_by_year.values,\n",
    "                name=\"VC Deployment\",\n",
    "                text=[f\"${val/1e6:.0f}M\" for val in vc_by_year.values],\n",
    "                textposition='outside',\n",
    "                marker_color=PlotStyle.COLORS['Venture Capital'],\n",
    "                hovertemplate=(\n",
    "                    \"Year: %{x}<br>\"\n",
    "                    \"Amount: $%{y:,.0f}<br>\"\n",
    "                    \"<extra></extra>\"\n",
    "                )\n",
    "            )\n",
    "        )\n",
    "        \n",
    "        fig.add_trace(\n",
    "            go.Scatter(\n",
    "                x=vc_percentage.index,\n",
    "                y=vc_percentage.values,\n",
    "                name=\"% of Total PE Deployment\",\n",
    "                text=[f\"{val:.1f}%\" for val in vc_percentage.values],\n",
    "                textposition='top center',\n",
    "                mode='lines+markers+text',\n",
    "                line=dict(color='rgb(60,179,113)', width=2),\n",
    "                marker=dict(size=8),\n",
    "                yaxis='y2',\n",
    "                hovertemplate=(\n",
    "                    \"Year: %{x}<br>\"\n",
    "                    \"Percentage: %{y:.1f}%<br>\"\n",
    "                    \"<extra></extra>\"\n",
    "                )\n",
    "            )\n",
    "        )\n",
    "        \n",
    "        layout = PlotStyle.get_base_layout(title=\"Venture Capital Deployment by Year\")\n",
    "        layout.update({\n",
    "            'xaxis': {\n",
    "                'dtick': 1,\n",
    "                'gridcolor': 'lightgrey'\n",
    "            },\n",
    "            'yaxis': {\n",
    "                'gridcolor': 'lightgrey',\n",
    "                'tickmode': 'array',\n",
    "            },\n",
    "            'yaxis2': {\n",
    "                'title': \"Percentage of Total Deployment\",\n",
    "                'titlefont': dict(family=PlotStyle.FONT_FAMILY, size=PlotStyle.AXIS_TITLE_SIZE),\n",
    "                'tickfont': dict(family=PlotStyle.FONT_FAMILY, size=PlotStyle.AXIS_TICK_SIZE),\n",
    "                'ticksuffix': '%',\n",
    "                'overlaying': 'y',\n",
    "                'side': 'right',\n",
    "                'range': [0, 100]\n",
    "            }\n",
    "        })\n",
    "        \n",
    "        fig.update_layout(layout)\n",
    "        return fig\n",
    "    \n",
    "    @staticmethod\n",
    "    def create_strategy_pie_charts(df: pd.DataFrame) -> go.Figure:\n",
    "        strategy_by_dollars = df.groupby('Fund Type')['Capital Contributed'].sum()\n",
    "        strategy_by_count = df['Fund Type'].value_counts()\n",
    "        \n",
    "        total_capital = strategy_by_dollars.sum()\n",
    "        total_funds = strategy_by_count.sum()\n",
    "        \n",
    "        fig = make_subplots(\n",
    "            rows=1, cols=2,\n",
    "            specs=[[{'type':'domain'}, {'type':'domain'}]],\n",
    "            horizontal_spacing=0.1,\n",
    "            subplot_titles=('', '')\n",
    "        )\n",
    "        \n",
    "        capital_text = [\n",
    "            f\"{strat}<br>${val/1e9:.1f}B / {val/total_capital*100:.1f}%\"\n",
    "            for strat, val in strategy_by_dollars.items()\n",
    "        ]\n",
    "        \n",
    "        fig.add_trace(\n",
    "            go.Pie(\n",
    "                labels=strategy_by_dollars.index,\n",
    "                values=strategy_by_dollars,\n",
    "                text=capital_text,\n",
    "                textinfo='text',\n",
    "                textposition='outside',\n",
    "                hoverinfo='text',\n",
    "                hole=0.5,\n",
    "                domain={'x': [0, 0.45]},\n",
    "                textfont=dict(family=\"Avenir\", size=18)\n",
    "            ),\n",
    "            row=1, col=1\n",
    "        )\n",
    "        \n",
    "        count_text = [\n",
    "            f\"{strat}<br>{int(val)} funds / {val/total_funds*100:.1f}%\"\n",
    "            for strat, val in strategy_by_count.items()\n",
    "        ]\n",
    "        \n",
    "        fig.add_trace(\n",
    "            go.Pie(\n",
    "                labels=strategy_by_count.index,\n",
    "                values=strategy_by_count,\n",
    "                text=count_text,\n",
    "                textinfo='text',\n",
    "                textposition='outside',\n",
    "                hoverinfo='text',\n",
    "                hole=0.5,\n",
    "                domain={'x': [0.55, 1]},\n",
    "                textfont=dict(family=\"Avenir\", size=18)\n",
    "            ),\n",
    "            row=1, col=2\n",
    "        )\n",
    "        \n",
    "        fig.update_layout(\n",
    "            height=1000,\n",
    "            showlegend=True,\n",
    "            title={\n",
    "                'text': \"<b>Fund Strategy Distribution Analysis</b>\",\n",
    "                'y': 0.95,\n",
    "                'x': 0.5,\n",
    "                'xanchor': 'center',\n",
    "                'yanchor': 'top'\n",
    "            },\n",
    "            title_font=dict(size=25, family=\"Avenir\"),\n",
    "            annotations=[\n",
    "                dict(\n",
    "                    text=f\"<b>By Capital Contributed (${total_capital/1e9:.1f}B)</b>\",\n",
    "                    x=0.15, y=0.5,\n",
    "                    font_size=18,\n",
    "                    showarrow=False,\n",
    "                    xref='paper',\n",
    "                    yref='paper'\n",
    "                ),\n",
    "                dict(\n",
    "                    text=f\"<b>By Number of Funds ({int(total_funds)} Funds)</b>\",\n",
    "                    x=0.87, y=0.5,\n",
    "                    font_size=18,\n",
    "                    showarrow=False,\n",
    "                    xref='paper',\n",
    "                    yref='paper'\n",
    "                )\n",
    "            ],\n",
    "            legend=dict(\n",
    "                orientation=\"h\",\n",
    "                yanchor=\"top\",\n",
    "                y=-0.25,\n",
    "                xanchor=\"center\",\n",
    "                x=0.5\n",
    "            ),\n",
    "            margin=dict(b=100),\n",
    "            font=dict(family=\"Avenir\", size=18)\n",
    "        )\n",
    "        \n",
    "        return fig\n",
    "    \n",
    "    @staticmethod\n",
    "    def create_deployment_chart(df: pd.DataFrame) -> go.Figure:\n",
    "        yearly_strategy = df.pivot_table(\n",
    "            values='Capital Contributed',\n",
    "            index='VY',\n",
    "            columns='Fund Type',\n",
    "            aggfunc='sum',\n",
    "            fill_value=0\n",
    "        )\n",
    "        \n",
    "        max_value = yearly_strategy.sum(axis=1).max()\n",
    "        tick_values, tick_labels = PlotStyle.calculate_tick_values(max_value)\n",
    "        \n",
    "        fig = go.Figure()\n",
    "        yearly_totals = yearly_strategy.sum(axis=1)\n",
    "        \n",
    "        for strategy in yearly_strategy.columns:\n",
    "            fig.add_trace(\n",
    "                go.Bar(\n",
    "                    x=yearly_strategy.index,\n",
    "                    y=yearly_strategy[strategy],\n",
    "                    name=strategy,\n",
    "                    hovertemplate=(\n",
    "                        f\"{strategy}<br>\"\n",
    "                        \"Year: %{x}<br>\"\n",
    "                        \"Amount: $%{y:,.0f}<br>\"\n",
    "                        \"<extra></extra>\"\n",
    "                    )\n",
    "                )\n",
    "            )\n",
    "        \n",
    "        annotations = [\n",
    "            dict(\n",
    "                x=year,\n",
    "                y=total,\n",
    "                text=f\"${total/1e9:.1f}B\",\n",
    "                showarrow=False,\n",
    "                yshift=10,\n",
    "                font=dict(\n",
    "                    family=PlotStyle.FONT_FAMILY,\n",
    "                    size=PlotStyle.ANNOTATION_SIZE\n",
    "                )\n",
    "            )\n",
    "            for year, total in yearly_totals.items()\n",
    "        ]\n",
    "        \n",
    "        layout = PlotStyle.get_base_layout(title=\"Capital Deployment by Year and Strategy\")\n",
    "        layout.update({\n",
    "            'barmode': 'stack',\n",
    "            'annotations': annotations,\n",
    "            'xaxis': {\n",
    "                'title': \"Vintage Year\",\n",
    "                'title_font': dict(family=PlotStyle.FONT_FAMILY, size=PlotStyle.AXIS_TITLE_SIZE),\n",
    "                'tickfont': dict(family=PlotStyle.FONT_FAMILY, size=PlotStyle.AXIS_TICK_SIZE),\n",
    "                'dtick': 1,\n",
    "                'gridcolor': 'lightgrey'\n",
    "            },\n",
    "            'yaxis': {\n",
    "                'title': \"Capital Contributed ($)\",\n",
    "                'title_font': dict(family=PlotStyle.FONT_FAMILY, size=PlotStyle.AXIS_TITLE_SIZE),\n",
    "                'tickfont': dict(family=PlotStyle.FONT_FAMILY, size=PlotStyle.AXIS_TICK_SIZE),\n",
    "                'gridcolor': 'lightgrey',\n",
    "                'tickmode': 'array',\n",
    "                'tickvals': tick_values,\n",
    "                'ticktext': tick_labels\n",
    "            }\n",
    "        })\n",
    "        \n",
    "        fig.update_layout(layout)\n",
    "        return fig\n",
    "\n",
    "    @staticmethod\n",
    "    def create_capital_flows_chart(df: pd.DataFrame) -> go.Figure:        \n",
    "        yearly_flows = df.groupby('VY').agg({\n",
    "            'Capital Contributed': 'sum',\n",
    "            'Capital Distributed': 'sum',\n",
    "            'Market Value': 'sum'\n",
    "        }).fillna(0)\n",
    "        \n",
    "        yearly_flows['DPI'] = (yearly_flows['Capital Distributed'] / yearly_flows['Capital Contributed']).round(2)\n",
    "        \n",
    "        all_years = pd.Index(range(df['VY'].min(), df['VY'].max() + 1))\n",
    "        yearly_flows = yearly_flows.reindex(all_years, fill_value=0)\n",
    "        \n",
    "        fig = go.Figure()\n",
    "        \n",
    "        fig.add_trace(\n",
    "            go.Bar(\n",
    "                x=yearly_flows.index,\n",
    "                y=-yearly_flows['Capital Contributed'],\n",
    "                name='Capital Contributed',\n",
    "                marker_color='rgb(200,30,30)',\n",
    "                text=[f\"-${val/1e9:.2f}B\" for val in yearly_flows['Capital Contributed']],\n",
    "                textposition='outside',\n",
    "                hovertemplate=(\n",
    "                    \"Year: %{x}<br>\"\n",
    "                    \"Capital Contributed: $%{y:,.0f}<br>\"\n",
    "                    \"<extra></extra>\"\n",
    "                )\n",
    "            )\n",
    "        )\n",
    "        \n",
    "        for name, color in [('Capital Distributed', 'rgb(30,144,255)'), \n",
    "                          ('Market Value', 'rgb(60,179,113)')]:\n",
    "            fig.add_trace(\n",
    "                go.Bar(\n",
    "                    x=yearly_flows.index,\n",
    "                    y=yearly_flows[name],\n",
    "                    name=name,\n",
    "                    marker_color=color,\n",
    "                    text=[f\"${val/1e9:.2f}B\" for val in yearly_flows[name]],\n",
    "                    hovertemplate=(\n",
    "                        f\"Year: %{{x}}<br>\"\n",
    "                        f\"{name}: $%{{y:,.0f}}<br>\"\n",
    "                        \"<extra></extra>\"\n",
    "                    )\n",
    "                )\n",
    "            )\n",
    "        \n",
    "        annotations = [\n",
    "            dict(\n",
    "                x=year,\n",
    "                y=yearly_flows.loc[year, 'Capital Distributed'] + yearly_flows.loc[year, 'Market Value'],\n",
    "                text=f\"DPI: {yearly_flows.loc[year, 'DPI']:.2f}x\",\n",
    "                showarrow=False,\n",
    "                yshift=25,\n",
    "                font=dict(family=PlotStyle.FONT_FAMILY, size=PlotStyle.ANNOTATION_SIZE)\n",
    "            )\n",
    "            for year in yearly_flows.index\n",
    "            if yearly_flows.loc[year, 'Capital Contributed'] > 0\n",
    "        ]\n",
    "        \n",
    "        layout = PlotStyle.get_base_layout(title=\"Capital Flows by Vintage Year\")\n",
    "        layout.update({\n",
    "            'xaxis': {\n",
    "                'dtick': 1,\n",
    "                'gridcolor': 'lightgrey'\n",
    "            },\n",
    "            'yaxis': {\n",
    "                'gridcolor': 'lightgrey',\n",
    "                'tickmode': 'array',\n",
    "            },\n",
    "            'barmode': 'relative',\n",
    "            'annotations': annotations\n",
    "        })\n",
    "        \n",
    "        fig.update_layout(layout)\n",
    "        return fig\n",
    "        \n",
    "    @staticmethod\n",
    "    def create_vintage_irr_chart(df: pd.DataFrame) -> go.Figure:\n",
    "        vintage_irrs = []\n",
    "        \n",
    "        for year, year_data in df.groupby('VY'):\n",
    "            weighted_irr = DataProcessor.calculate_weighted_irr(year_data)\n",
    "            vintage_irrs.append({'Year': year, 'Weighted_IRR': weighted_irr})\n",
    "        \n",
    "        vintage_data = pd.DataFrame(vintage_irrs).set_index('Year')\n",
    "        all_years = pd.Index(range(df['VY'].min(), df['VY'].max() + 1))\n",
    "        vintage_data = vintage_data.reindex(all_years, fill_value=0)\n",
    "        \n",
    "        fig = go.Figure()\n",
    "        fig.add_trace(\n",
    "            go.Bar(\n",
    "                x=vintage_data.index,\n",
    "                y=vintage_data['Weighted_IRR'],\n",
    "                name='Weighted IRR',\n",
    "                marker_color='rgb(30,144,255)',\n",
    "                text=[f\"{val:.1f}%\" for val in vintage_data['Weighted_IRR']],\n",
    "                textposition='outside',\n",
    "                hovertemplate=(\n",
    "                    \"Year: %{x}<br>\"\n",
    "                    \"Weighted IRR: %{y:.1f}%<br>\"\n",
    "                    \"<extra></extra>\"\n",
    "                )\n",
    "            )\n",
    "        )\n",
    "        \n",
    "        fig.add_hline(y=0, line_dash=\"dash\", line_color=\"gray\", line_width=1)\n",
    "        \n",
    "        layout = PlotStyle.get_base_layout(title=\"Weighted IRR by Vintage Year\")\n",
    "        layout.update({\n",
    "            'showlegend': True,\n",
    "            'xaxis': {\n",
    "                'dtick': 1,\n",
    "                'gridcolor': 'lightgrey'\n",
    "            },\n",
    "            'yaxis': {\n",
    "                'title': \"Weighted IRR (%)\",\n",
    "                'tickformat': '.1f',\n",
    "                'ticksuffix': '%',\n",
    "                'gridcolor': 'lightgrey',\n",
    "                'zeroline': True,\n",
    "            }\n",
    "        })\n",
    "        \n",
    "        fig.update_layout(layout)\n",
    "        return fig\n",
    "\n",
    "    @staticmethod\n",
    "    def create_dpi_chart(df: pd.DataFrame) -> go.Figure:\n",
    "        df = df[df['Fund Type'].isin(STRATEGIES)].copy()\n",
    "        \n",
    "        dpi_data = df.groupby(['VY', 'Fund Type']).agg({\n",
    "            'Capital Distributed': 'sum',\n",
    "            'Capital Contributed': 'sum'\n",
    "        }).reset_index()\n",
    "        \n",
    "        dpi_data['DPI'] = dpi_data['Capital Distributed'] / dpi_data['Capital Contributed']\n",
    "        \n",
    "        fig = go.Figure()\n",
    "        \n",
    "        for strategy in STRATEGIES:\n",
    "            strategy_data = dpi_data[dpi_data['Fund Type'] == strategy].sort_values('VY')\n",
    "            \n",
    "            fig.add_trace(\n",
    "                go.Scatter(\n",
    "                    x=strategy_data['VY'],\n",
    "                    y=strategy_data['DPI'],\n",
    "                    name=strategy,\n",
    "                    mode='lines+markers+text',\n",
    "                    line=dict(color=PlotStyle.COLORS[strategy], width=2),\n",
    "                    marker=dict(size=8),\n",
    "                    text=[f\"{val:.2f}x\" for val in strategy_data['DPI']],\n",
    "                    textposition=\"top center\",\n",
    "                    hovertemplate=(\n",
    "                        \"Year: %{x}<br>\"\n",
    "                        \"DPI: %{y:.2f}x<br>\"\n",
    "                        \"<extra></extra>\"\n",
    "                    )\n",
    "                )\n",
    "            )\n",
    "        \n",
    "        layout = PlotStyle.get_base_layout(title=\"DPI by Strategy and Vintage Year\")\n",
    "        layout.update({\n",
    "            'xaxis': {\n",
    "                'title': \"Vintage Year\",\n",
    "                'dtick': 1,\n",
    "                'gridcolor': 'lightgrey'\n",
    "            },\n",
    "            'yaxis': {\n",
    "                'title': \"DPI (Distributed to Paid-In Multiple)\",\n",
    "                'tickformat': '.2f',\n",
    "                'ticksuffix': 'x',\n",
    "                'gridcolor' : 'lightgrey',\n",
    "                'rangemode': 'nonnegative'\n",
    "            }\n",
    "        })\n",
    "        \n",
    "        fig.update_layout(layout)\n",
    "        return fig\n",
    "\n",
    "    @staticmethod\n",
    "    def create_irr_chart(df: pd.DataFrame) -> go.Figure:\n",
    "        irr_data = []\n",
    "        \n",
    "        for strategy in STRATEGIES:\n",
    "            strategy_data = df[df['Fund Type'] == strategy]\n",
    "            \n",
    "            for year, year_data in strategy_data.groupby('VY'):\n",
    "                weighted_irr = DataProcessor.calculate_weighted_irr(year_data)\n",
    "                irr_data.append({\n",
    "                    'Year': year,\n",
    "                    'Strategy': strategy,\n",
    "                    'Weighted_IRR': weighted_irr\n",
    "                })\n",
    "        \n",
    "        irr_df = pd.DataFrame(irr_data)\n",
    "        fig = go.Figure()\n",
    "    \n",
    "        for strategy in STRATEGIES:\n",
    "            strategy_data = irr_df[irr_df['Strategy'] == strategy].sort_values('Year')\n",
    "            \n",
    "            fig.add_trace(\n",
    "                go.Scatter(\n",
    "                    x=strategy_data['Year'],\n",
    "                    y=strategy_data['Weighted_IRR'],\n",
    "                    name=strategy,\n",
    "                    mode='lines+markers+text',\n",
    "                    line=dict(color=PlotStyle.COLORS[strategy], width=2),\n",
    "                    marker=dict(size=8),\n",
    "                    text=[f\"{val:.1f}%\" for val in strategy_data['Weighted_IRR']],\n",
    "                    textposition=\"top center\",\n",
    "                    hovertemplate=(\n",
    "                        \"Year: %{x}<br>\"\n",
    "                        \"Weighted IRR: %{y:.1f}%<br>\"\n",
    "                        \"<extra></extra>\"\n",
    "                    )\n",
    "                )\n",
    "            )\n",
    "        \n",
    "        layout = PlotStyle.get_base_layout(title=\"Weighted IRR by Strategy and Vintage Year\")\n",
    "        layout.update({\n",
    "            'xaxis': {\n",
    "                'title': \"Vintage Year\",\n",
    "                'dtick': 1,\n",
    "                'gridcolor': 'lightgrey'\n",
    "            },\n",
    "            'yaxis': {\n",
    "                'title': \"Weighted IRR (%)\",\n",
    "                'tickformat': '.2f',\n",
    "                'ticksuffix': '%',\n",
    "                'gridcolor': 'lightgrey',\n",
    "                'zeroline': True,\n",
    "                'zerolinewidth': 1,\n",
    "                'zerolinecolor': 'black'\n",
    "            }\n",
    "        })\n",
    "        \n",
    "        fig.update_layout(layout)\n",
    "        return fig"
   ]
  },
  {
   "cell_type": "code",
   "execution_count": 151,
   "metadata": {},
   "outputs": [
    {
     "data": {
      "text/html": [
       "<div>\n",
       "<style scoped>\n",
       "    .dataframe tbody tr th:only-of-type {\n",
       "        vertical-align: middle;\n",
       "    }\n",
       "\n",
       "    .dataframe tbody tr th {\n",
       "        vertical-align: top;\n",
       "    }\n",
       "\n",
       "    .dataframe thead th {\n",
       "        text-align: right;\n",
       "    }\n",
       "</style>\n",
       "<table border=\"1\" class=\"dataframe\">\n",
       "  <thead>\n",
       "    <tr style=\"text-align: right;\">\n",
       "      <th></th>\n",
       "      <th>Description</th>\n",
       "      <th>VY</th>\n",
       "      <th>Capital Committed</th>\n",
       "      <th>Capital Contributed</th>\n",
       "      <th>Capital Distributed</th>\n",
       "      <th>Market Value</th>\n",
       "      <th>CalSTRS Since Inception IRR*</th>\n",
       "      <th>Fund Type</th>\n",
       "      <th>DPI</th>\n",
       "    </tr>\n",
       "  </thead>\n",
       "  <tbody>\n",
       "    <tr>\n",
       "      <th>0</th>\n",
       "      <td>Tenex Capital Partners III, L.P.</td>\n",
       "      <td>2021</td>\n",
       "      <td>100000000.0</td>\n",
       "      <td>98073921.0</td>\n",
       "      <td>66221945.0</td>\n",
       "      <td>93823287.0</td>\n",
       "      <td>99.80</td>\n",
       "      <td>Private Equity</td>\n",
       "      <td>0.675225</td>\n",
       "    </tr>\n",
       "    <tr>\n",
       "      <th>1</th>\n",
       "      <td>Spectrum VIII-A Discretionary Overage Program</td>\n",
       "      <td>2019</td>\n",
       "      <td>20000000.0</td>\n",
       "      <td>19321646.0</td>\n",
       "      <td>46332352.0</td>\n",
       "      <td>10737931.0</td>\n",
       "      <td>92.72</td>\n",
       "      <td>Growth Equity</td>\n",
       "      <td>2.397951</td>\n",
       "    </tr>\n",
       "    <tr>\n",
       "      <th>2</th>\n",
       "      <td>ICG Strategic Equity Fund V LP</td>\n",
       "      <td>2024</td>\n",
       "      <td>100000000.0</td>\n",
       "      <td>5400000.0</td>\n",
       "      <td>0.0</td>\n",
       "      <td>10129110.0</td>\n",
       "      <td>87.58</td>\n",
       "      <td>Private Equity</td>\n",
       "      <td>0.000000</td>\n",
       "    </tr>\n",
       "    <tr>\n",
       "      <th>3</th>\n",
       "      <td>ASF IX B L.P.</td>\n",
       "      <td>2022</td>\n",
       "      <td>250000000.0</td>\n",
       "      <td>26294373.0</td>\n",
       "      <td>821115.0</td>\n",
       "      <td>36606381.0</td>\n",
       "      <td>87.57</td>\n",
       "      <td>Private Equity</td>\n",
       "      <td>0.031228</td>\n",
       "    </tr>\n",
       "    <tr>\n",
       "      <th>4</th>\n",
       "      <td>Francisco Partners Agility, L.P.</td>\n",
       "      <td>2017</td>\n",
       "      <td>50000000.0</td>\n",
       "      <td>44502467.0</td>\n",
       "      <td>171552467.0</td>\n",
       "      <td>56375649.0</td>\n",
       "      <td>84.71</td>\n",
       "      <td>Private Equity</td>\n",
       "      <td>3.854898</td>\n",
       "    </tr>\n",
       "  </tbody>\n",
       "</table>\n",
       "</div>"
      ],
      "text/plain": [
       "                                      Description    VY  Capital Committed  \\\n",
       "0               Tenex Capital Partners III, L.P.   2021        100000000.0   \n",
       "1  Spectrum VIII-A Discretionary Overage Program   2019         20000000.0   \n",
       "2                 ICG Strategic Equity Fund V LP   2024        100000000.0   \n",
       "3                                  ASF IX B L.P.   2022        250000000.0   \n",
       "4               Francisco Partners Agility, L.P.   2017         50000000.0   \n",
       "\n",
       "   Capital Contributed  Capital Distributed  Market Value  \\\n",
       "0           98073921.0           66221945.0    93823287.0   \n",
       "1           19321646.0           46332352.0    10737931.0   \n",
       "2            5400000.0                  0.0    10129110.0   \n",
       "3           26294373.0             821115.0    36606381.0   \n",
       "4           44502467.0          171552467.0    56375649.0   \n",
       "\n",
       "   CalSTRS Since Inception IRR*       Fund Type       DPI  \n",
       "0                         99.80  Private Equity  0.675225  \n",
       "1                         92.72   Growth Equity  2.397951  \n",
       "2                         87.58  Private Equity  0.000000  \n",
       "3                         87.57  Private Equity  0.031228  \n",
       "4                         84.71  Private Equity  3.854898  "
      ]
     },
     "execution_count": 151,
     "metadata": {},
     "output_type": "execute_result"
    }
   ],
   "source": [
    "df = pd.read_csv(CALSTRS_PATH)\n",
    "df = DataProcessor.clean_data(df)\n",
    "\n",
    "df.head()"
   ]
  },
  {
   "cell_type": "code",
   "execution_count": 152,
   "metadata": {},
   "outputs": [],
   "source": [
    "# Generate visualizations\n",
    "viz_gen = VisualizationGenerator()\n",
    "figures = {\n",
    "    'strategy_distribution': viz_gen.create_strategy_pie_charts(df),\n",
    "    'deployment': viz_gen.create_deployment_chart(df),\n",
    "    'vc_deployment': viz_gen.create_venture_capital_deployment_chart(df),\n",
    "    'capital_flows': viz_gen.create_capital_flows_chart(df),\n",
    "    'vintage_irr': viz_gen.create_vintage_irr_chart(df),\n",
    "    'strategy_irr': viz_gen.create_irr_chart(df),\n",
    "    'strategy_dpi': viz_gen.create_dpi_chart(df)\n",
    "}\n"
   ]
  },
  {
   "cell_type": "code",
   "execution_count": 117,
   "metadata": {},
   "outputs": [
    {
     "data": {
      "application/vnd.plotly.v1+json": {
       "config": {
        "plotlyServerURL": "https://plot.ly"
       },
       "data": [
        {
         "domain": {
          "x": [
           0,
           0.45
          ],
          "y": [
           0,
           1
          ]
         },
         "hole": 0.5,
         "hoverinfo": "text",
         "labels": [
          "Debt",
          "Fund of Funds",
          "Growth Equity",
          "Infrastructure",
          "Private Equity",
          "Real Assets & Natural Resources",
          "Real Estate",
          "Secondaries",
          "Venture Capital"
         ],
         "text": [
          "Debt<br>$7.1B / 10.5%",
          "Fund of Funds<br>$1.9B / 2.8%",
          "Growth Equity<br>$5.2B / 7.7%",
          "Infrastructure<br>$0.9B / 1.3%",
          "Private Equity<br>$44.0B / 65.3%",
          "Real Assets & Natural Resources<br>$3.2B / 4.7%",
          "Real Estate<br>$0.6B / 0.9%",
          "Secondaries<br>$0.3B / 0.5%",
          "Venture Capital<br>$4.1B / 6.0%"
         ],
         "textfont": {
          "family": "Avenir",
          "size": 18
         },
         "textinfo": "text",
         "textposition": "outside",
         "type": "pie",
         "values": [
          7082462252,
          1914543753,
          5213353654,
          905113918,
          43977983557,
          3195847471,
          611038422,
          343178424,
          4072107457
         ]
        },
        {
         "domain": {
          "x": [
           0.55,
           1
          ],
          "y": [
           0,
           1
          ]
         },
         "hole": 0.5,
         "hoverinfo": "text",
         "labels": [
          "Private Equity",
          "Venture Capital",
          "Debt",
          "Growth Equity",
          "Fund of Funds",
          "Real Assets & Natural Resources",
          "Infrastructure",
          "Real Estate",
          "Secondaries"
         ],
         "text": [
          "Private Equity<br>253 funds / 53.2%",
          "Venture Capital<br>73 funds / 15.3%",
          "Debt<br>54 funds / 11.3%",
          "Growth Equity<br>49 funds / 10.3%",
          "Fund of Funds<br>20 funds / 4.2%",
          "Real Assets & Natural Resources<br>11 funds / 2.3%",
          "Infrastructure<br>8 funds / 1.7%",
          "Real Estate<br>4 funds / 0.8%",
          "Secondaries<br>4 funds / 0.8%"
         ],
         "textfont": {
          "family": "Avenir",
          "size": 18
         },
         "textinfo": "text",
         "textposition": "outside",
         "type": "pie",
         "values": [
          253,
          73,
          54,
          49,
          20,
          11,
          8,
          4,
          4
         ]
        }
       ],
       "layout": {
        "annotations": [
         {
          "font": {
           "size": 18
          },
          "showarrow": false,
          "text": "<b>By Capital Contributed ($67.3B)</b>",
          "x": 0.15,
          "xref": "paper",
          "y": 0.5,
          "yref": "paper"
         },
         {
          "font": {
           "size": 18
          },
          "showarrow": false,
          "text": "<b>By Number of Funds (476 Funds)</b>",
          "x": 0.87,
          "xref": "paper",
          "y": 0.5,
          "yref": "paper"
         }
        ],
        "font": {
         "family": "Avenir",
         "size": 18
        },
        "height": 1000,
        "legend": {
         "orientation": "h",
         "x": 0.5,
         "xanchor": "center",
         "y": -0.25,
         "yanchor": "top"
        },
        "margin": {
         "b": 100
        },
        "showlegend": true,
        "template": {
         "data": {
          "bar": [
           {
            "error_x": {
             "color": "#2a3f5f"
            },
            "error_y": {
             "color": "#2a3f5f"
            },
            "marker": {
             "line": {
              "color": "#E5ECF6",
              "width": 0.5
             },
             "pattern": {
              "fillmode": "overlay",
              "size": 10,
              "solidity": 0.2
             }
            },
            "type": "bar"
           }
          ],
          "barpolar": [
           {
            "marker": {
             "line": {
              "color": "#E5ECF6",
              "width": 0.5
             },
             "pattern": {
              "fillmode": "overlay",
              "size": 10,
              "solidity": 0.2
             }
            },
            "type": "barpolar"
           }
          ],
          "carpet": [
           {
            "aaxis": {
             "endlinecolor": "#2a3f5f",
             "gridcolor": "white",
             "linecolor": "white",
             "minorgridcolor": "white",
             "startlinecolor": "#2a3f5f"
            },
            "baxis": {
             "endlinecolor": "#2a3f5f",
             "gridcolor": "white",
             "linecolor": "white",
             "minorgridcolor": "white",
             "startlinecolor": "#2a3f5f"
            },
            "type": "carpet"
           }
          ],
          "choropleth": [
           {
            "colorbar": {
             "outlinewidth": 0,
             "ticks": ""
            },
            "type": "choropleth"
           }
          ],
          "contour": [
           {
            "colorbar": {
             "outlinewidth": 0,
             "ticks": ""
            },
            "colorscale": [
             [
              0,
              "#0d0887"
             ],
             [
              0.1111111111111111,
              "#46039f"
             ],
             [
              0.2222222222222222,
              "#7201a8"
             ],
             [
              0.3333333333333333,
              "#9c179e"
             ],
             [
              0.4444444444444444,
              "#bd3786"
             ],
             [
              0.5555555555555556,
              "#d8576b"
             ],
             [
              0.6666666666666666,
              "#ed7953"
             ],
             [
              0.7777777777777778,
              "#fb9f3a"
             ],
             [
              0.8888888888888888,
              "#fdca26"
             ],
             [
              1,
              "#f0f921"
             ]
            ],
            "type": "contour"
           }
          ],
          "contourcarpet": [
           {
            "colorbar": {
             "outlinewidth": 0,
             "ticks": ""
            },
            "type": "contourcarpet"
           }
          ],
          "heatmap": [
           {
            "colorbar": {
             "outlinewidth": 0,
             "ticks": ""
            },
            "colorscale": [
             [
              0,
              "#0d0887"
             ],
             [
              0.1111111111111111,
              "#46039f"
             ],
             [
              0.2222222222222222,
              "#7201a8"
             ],
             [
              0.3333333333333333,
              "#9c179e"
             ],
             [
              0.4444444444444444,
              "#bd3786"
             ],
             [
              0.5555555555555556,
              "#d8576b"
             ],
             [
              0.6666666666666666,
              "#ed7953"
             ],
             [
              0.7777777777777778,
              "#fb9f3a"
             ],
             [
              0.8888888888888888,
              "#fdca26"
             ],
             [
              1,
              "#f0f921"
             ]
            ],
            "type": "heatmap"
           }
          ],
          "heatmapgl": [
           {
            "colorbar": {
             "outlinewidth": 0,
             "ticks": ""
            },
            "colorscale": [
             [
              0,
              "#0d0887"
             ],
             [
              0.1111111111111111,
              "#46039f"
             ],
             [
              0.2222222222222222,
              "#7201a8"
             ],
             [
              0.3333333333333333,
              "#9c179e"
             ],
             [
              0.4444444444444444,
              "#bd3786"
             ],
             [
              0.5555555555555556,
              "#d8576b"
             ],
             [
              0.6666666666666666,
              "#ed7953"
             ],
             [
              0.7777777777777778,
              "#fb9f3a"
             ],
             [
              0.8888888888888888,
              "#fdca26"
             ],
             [
              1,
              "#f0f921"
             ]
            ],
            "type": "heatmapgl"
           }
          ],
          "histogram": [
           {
            "marker": {
             "pattern": {
              "fillmode": "overlay",
              "size": 10,
              "solidity": 0.2
             }
            },
            "type": "histogram"
           }
          ],
          "histogram2d": [
           {
            "colorbar": {
             "outlinewidth": 0,
             "ticks": ""
            },
            "colorscale": [
             [
              0,
              "#0d0887"
             ],
             [
              0.1111111111111111,
              "#46039f"
             ],
             [
              0.2222222222222222,
              "#7201a8"
             ],
             [
              0.3333333333333333,
              "#9c179e"
             ],
             [
              0.4444444444444444,
              "#bd3786"
             ],
             [
              0.5555555555555556,
              "#d8576b"
             ],
             [
              0.6666666666666666,
              "#ed7953"
             ],
             [
              0.7777777777777778,
              "#fb9f3a"
             ],
             [
              0.8888888888888888,
              "#fdca26"
             ],
             [
              1,
              "#f0f921"
             ]
            ],
            "type": "histogram2d"
           }
          ],
          "histogram2dcontour": [
           {
            "colorbar": {
             "outlinewidth": 0,
             "ticks": ""
            },
            "colorscale": [
             [
              0,
              "#0d0887"
             ],
             [
              0.1111111111111111,
              "#46039f"
             ],
             [
              0.2222222222222222,
              "#7201a8"
             ],
             [
              0.3333333333333333,
              "#9c179e"
             ],
             [
              0.4444444444444444,
              "#bd3786"
             ],
             [
              0.5555555555555556,
              "#d8576b"
             ],
             [
              0.6666666666666666,
              "#ed7953"
             ],
             [
              0.7777777777777778,
              "#fb9f3a"
             ],
             [
              0.8888888888888888,
              "#fdca26"
             ],
             [
              1,
              "#f0f921"
             ]
            ],
            "type": "histogram2dcontour"
           }
          ],
          "mesh3d": [
           {
            "colorbar": {
             "outlinewidth": 0,
             "ticks": ""
            },
            "type": "mesh3d"
           }
          ],
          "parcoords": [
           {
            "line": {
             "colorbar": {
              "outlinewidth": 0,
              "ticks": ""
             }
            },
            "type": "parcoords"
           }
          ],
          "pie": [
           {
            "automargin": true,
            "type": "pie"
           }
          ],
          "scatter": [
           {
            "fillpattern": {
             "fillmode": "overlay",
             "size": 10,
             "solidity": 0.2
            },
            "type": "scatter"
           }
          ],
          "scatter3d": [
           {
            "line": {
             "colorbar": {
              "outlinewidth": 0,
              "ticks": ""
             }
            },
            "marker": {
             "colorbar": {
              "outlinewidth": 0,
              "ticks": ""
             }
            },
            "type": "scatter3d"
           }
          ],
          "scattercarpet": [
           {
            "marker": {
             "colorbar": {
              "outlinewidth": 0,
              "ticks": ""
             }
            },
            "type": "scattercarpet"
           }
          ],
          "scattergeo": [
           {
            "marker": {
             "colorbar": {
              "outlinewidth": 0,
              "ticks": ""
             }
            },
            "type": "scattergeo"
           }
          ],
          "scattergl": [
           {
            "marker": {
             "colorbar": {
              "outlinewidth": 0,
              "ticks": ""
             }
            },
            "type": "scattergl"
           }
          ],
          "scattermapbox": [
           {
            "marker": {
             "colorbar": {
              "outlinewidth": 0,
              "ticks": ""
             }
            },
            "type": "scattermapbox"
           }
          ],
          "scatterpolar": [
           {
            "marker": {
             "colorbar": {
              "outlinewidth": 0,
              "ticks": ""
             }
            },
            "type": "scatterpolar"
           }
          ],
          "scatterpolargl": [
           {
            "marker": {
             "colorbar": {
              "outlinewidth": 0,
              "ticks": ""
             }
            },
            "type": "scatterpolargl"
           }
          ],
          "scatterternary": [
           {
            "marker": {
             "colorbar": {
              "outlinewidth": 0,
              "ticks": ""
             }
            },
            "type": "scatterternary"
           }
          ],
          "surface": [
           {
            "colorbar": {
             "outlinewidth": 0,
             "ticks": ""
            },
            "colorscale": [
             [
              0,
              "#0d0887"
             ],
             [
              0.1111111111111111,
              "#46039f"
             ],
             [
              0.2222222222222222,
              "#7201a8"
             ],
             [
              0.3333333333333333,
              "#9c179e"
             ],
             [
              0.4444444444444444,
              "#bd3786"
             ],
             [
              0.5555555555555556,
              "#d8576b"
             ],
             [
              0.6666666666666666,
              "#ed7953"
             ],
             [
              0.7777777777777778,
              "#fb9f3a"
             ],
             [
              0.8888888888888888,
              "#fdca26"
             ],
             [
              1,
              "#f0f921"
             ]
            ],
            "type": "surface"
           }
          ],
          "table": [
           {
            "cells": {
             "fill": {
              "color": "#EBF0F8"
             },
             "line": {
              "color": "white"
             }
            },
            "header": {
             "fill": {
              "color": "#C8D4E3"
             },
             "line": {
              "color": "white"
             }
            },
            "type": "table"
           }
          ]
         },
         "layout": {
          "annotationdefaults": {
           "arrowcolor": "#2a3f5f",
           "arrowhead": 0,
           "arrowwidth": 1
          },
          "autotypenumbers": "strict",
          "coloraxis": {
           "colorbar": {
            "outlinewidth": 0,
            "ticks": ""
           }
          },
          "colorscale": {
           "diverging": [
            [
             0,
             "#8e0152"
            ],
            [
             0.1,
             "#c51b7d"
            ],
            [
             0.2,
             "#de77ae"
            ],
            [
             0.3,
             "#f1b6da"
            ],
            [
             0.4,
             "#fde0ef"
            ],
            [
             0.5,
             "#f7f7f7"
            ],
            [
             0.6,
             "#e6f5d0"
            ],
            [
             0.7,
             "#b8e186"
            ],
            [
             0.8,
             "#7fbc41"
            ],
            [
             0.9,
             "#4d9221"
            ],
            [
             1,
             "#276419"
            ]
           ],
           "sequential": [
            [
             0,
             "#0d0887"
            ],
            [
             0.1111111111111111,
             "#46039f"
            ],
            [
             0.2222222222222222,
             "#7201a8"
            ],
            [
             0.3333333333333333,
             "#9c179e"
            ],
            [
             0.4444444444444444,
             "#bd3786"
            ],
            [
             0.5555555555555556,
             "#d8576b"
            ],
            [
             0.6666666666666666,
             "#ed7953"
            ],
            [
             0.7777777777777778,
             "#fb9f3a"
            ],
            [
             0.8888888888888888,
             "#fdca26"
            ],
            [
             1,
             "#f0f921"
            ]
           ],
           "sequentialminus": [
            [
             0,
             "#0d0887"
            ],
            [
             0.1111111111111111,
             "#46039f"
            ],
            [
             0.2222222222222222,
             "#7201a8"
            ],
            [
             0.3333333333333333,
             "#9c179e"
            ],
            [
             0.4444444444444444,
             "#bd3786"
            ],
            [
             0.5555555555555556,
             "#d8576b"
            ],
            [
             0.6666666666666666,
             "#ed7953"
            ],
            [
             0.7777777777777778,
             "#fb9f3a"
            ],
            [
             0.8888888888888888,
             "#fdca26"
            ],
            [
             1,
             "#f0f921"
            ]
           ]
          },
          "colorway": [
           "#636efa",
           "#EF553B",
           "#00cc96",
           "#ab63fa",
           "#FFA15A",
           "#19d3f3",
           "#FF6692",
           "#B6E880",
           "#FF97FF",
           "#FECB52"
          ],
          "font": {
           "color": "#2a3f5f"
          },
          "geo": {
           "bgcolor": "white",
           "lakecolor": "white",
           "landcolor": "#E5ECF6",
           "showlakes": true,
           "showland": true,
           "subunitcolor": "white"
          },
          "hoverlabel": {
           "align": "left"
          },
          "hovermode": "closest",
          "mapbox": {
           "style": "light"
          },
          "paper_bgcolor": "white",
          "plot_bgcolor": "#E5ECF6",
          "polar": {
           "angularaxis": {
            "gridcolor": "white",
            "linecolor": "white",
            "ticks": ""
           },
           "bgcolor": "#E5ECF6",
           "radialaxis": {
            "gridcolor": "white",
            "linecolor": "white",
            "ticks": ""
           }
          },
          "scene": {
           "xaxis": {
            "backgroundcolor": "#E5ECF6",
            "gridcolor": "white",
            "gridwidth": 2,
            "linecolor": "white",
            "showbackground": true,
            "ticks": "",
            "zerolinecolor": "white"
           },
           "yaxis": {
            "backgroundcolor": "#E5ECF6",
            "gridcolor": "white",
            "gridwidth": 2,
            "linecolor": "white",
            "showbackground": true,
            "ticks": "",
            "zerolinecolor": "white"
           },
           "zaxis": {
            "backgroundcolor": "#E5ECF6",
            "gridcolor": "white",
            "gridwidth": 2,
            "linecolor": "white",
            "showbackground": true,
            "ticks": "",
            "zerolinecolor": "white"
           }
          },
          "shapedefaults": {
           "line": {
            "color": "#2a3f5f"
           }
          },
          "ternary": {
           "aaxis": {
            "gridcolor": "white",
            "linecolor": "white",
            "ticks": ""
           },
           "baxis": {
            "gridcolor": "white",
            "linecolor": "white",
            "ticks": ""
           },
           "bgcolor": "#E5ECF6",
           "caxis": {
            "gridcolor": "white",
            "linecolor": "white",
            "ticks": ""
           }
          },
          "title": {
           "x": 0.05
          },
          "xaxis": {
           "automargin": true,
           "gridcolor": "white",
           "linecolor": "white",
           "ticks": "",
           "title": {
            "standoff": 15
           },
           "zerolinecolor": "white",
           "zerolinewidth": 2
          },
          "yaxis": {
           "automargin": true,
           "gridcolor": "white",
           "linecolor": "white",
           "ticks": "",
           "title": {
            "standoff": 15
           },
           "zerolinecolor": "white",
           "zerolinewidth": 2
          }
         }
        },
        "title": {
         "font": {
          "family": "Avenir",
          "size": 25
         },
         "text": "<b>Fund Strategy Distribution Analysis</b>",
         "x": 0.5,
         "xanchor": "center",
         "y": 0.95,
         "yanchor": "top"
        }
       }
      }
     },
     "metadata": {},
     "output_type": "display_data"
    }
   ],
   "source": [
    "figures[\"strategy_distribution\"].show()"
   ]
  },
  {
   "cell_type": "code",
   "execution_count": 118,
   "metadata": {},
   "outputs": [
    {
     "data": {
      "application/vnd.plotly.v1+json": {
       "config": {
        "plotlyServerURL": "https://plot.ly"
       },
       "data": [
        {
         "hovertemplate": "Debt<br>Year: %{x}<br>Amount: $%{y:,.0f}<br><extra></extra>",
         "name": "Debt",
         "type": "bar",
         "x": [
          1998,
          1999,
          2000,
          2001,
          2002,
          2003,
          2004,
          2005,
          2006,
          2007,
          2008,
          2009,
          2010,
          2011,
          2012,
          2013,
          2014,
          2015,
          2016,
          2017,
          2018,
          2019,
          2020,
          2021,
          2022,
          2023,
          2024
         ],
         "y": [
          0,
          0,
          0,
          0,
          259515793,
          0,
          78182419,
          125000000,
          0,
          1122411195,
          468283818,
          188058900,
          144348102,
          289901363,
          465049849,
          0,
          548221650,
          408654430,
          329886736,
          246134712,
          357505562,
          741221110,
          839503664,
          169589329,
          300993620,
          0,
          0
         ]
        },
        {
         "hovertemplate": "Fund of Funds<br>Year: %{x}<br>Amount: $%{y:,.0f}<br><extra></extra>",
         "name": "Fund of Funds",
         "type": "bar",
         "x": [
          1998,
          1999,
          2000,
          2001,
          2002,
          2003,
          2004,
          2005,
          2006,
          2007,
          2008,
          2009,
          2010,
          2011,
          2012,
          2013,
          2014,
          2015,
          2016,
          2017,
          2018,
          2019,
          2020,
          2021,
          2022,
          2023,
          2024
         ],
         "y": [
          0,
          0,
          0,
          0,
          0,
          63363119,
          0,
          75257460,
          0,
          180258012,
          135443457,
          0,
          0,
          168651152,
          218783736,
          43572473,
          108114828,
          44741597,
          34436820,
          287623762,
          265214207,
          0,
          66135000,
          150917865,
          0,
          61877432,
          10152833
         ]
        },
        {
         "hovertemplate": "Growth Equity<br>Year: %{x}<br>Amount: $%{y:,.0f}<br><extra></extra>",
         "name": "Growth Equity",
         "type": "bar",
         "x": [
          1998,
          1999,
          2000,
          2001,
          2002,
          2003,
          2004,
          2005,
          2006,
          2007,
          2008,
          2009,
          2010,
          2011,
          2012,
          2013,
          2014,
          2015,
          2016,
          2017,
          2018,
          2019,
          2020,
          2021,
          2022,
          2023,
          2024
         ],
         "y": [
          0,
          0,
          0,
          0,
          0,
          0,
          0,
          0,
          0,
          50000000,
          116186265,
          57489625,
          143744368,
          175493144,
          105033610,
          45101351,
          343445122,
          111363616,
          396226118,
          391775032,
          438920565,
          995881027,
          672046863,
          747127523,
          278472553,
          124734372,
          20312500
         ]
        },
        {
         "hovertemplate": "Infrastructure<br>Year: %{x}<br>Amount: $%{y:,.0f}<br><extra></extra>",
         "name": "Infrastructure",
         "type": "bar",
         "x": [
          1998,
          1999,
          2000,
          2001,
          2002,
          2003,
          2004,
          2005,
          2006,
          2007,
          2008,
          2009,
          2010,
          2011,
          2012,
          2013,
          2014,
          2015,
          2016,
          2017,
          2018,
          2019,
          2020,
          2021,
          2022,
          2023,
          2024
         ],
         "y": [
          0,
          0,
          0,
          0,
          0,
          0,
          0,
          0,
          58791393,
          60618407,
          226727829,
          0,
          51477759,
          62767705,
          0,
          0,
          309589726,
          0,
          0,
          0,
          0,
          0,
          135141099,
          0,
          0,
          0,
          0
         ]
        },
        {
         "hovertemplate": "Private Equity<br>Year: %{x}<br>Amount: $%{y:,.0f}<br><extra></extra>",
         "name": "Private Equity",
         "type": "bar",
         "x": [
          1998,
          1999,
          2000,
          2001,
          2002,
          2003,
          2004,
          2005,
          2006,
          2007,
          2008,
          2009,
          2010,
          2011,
          2012,
          2013,
          2014,
          2015,
          2016,
          2017,
          2018,
          2019,
          2020,
          2021,
          2022,
          2023,
          2024
         ],
         "y": [
          0,
          359617716,
          1076264358,
          298391553,
          0,
          792696360,
          527284206,
          1872605225,
          4285482974,
          4032376849,
          2543614510,
          297905007,
          41980254,
          1254711246,
          548416137,
          645982035,
          1176880136,
          1868983459,
          2115651043,
          2856539259,
          4636497265,
          2816893511,
          2862517591,
          5420382828,
          1091408623,
          364974935,
          189926477
         ]
        },
        {
         "hovertemplate": "Real Assets & Natural Resources<br>Year: %{x}<br>Amount: $%{y:,.0f}<br><extra></extra>",
         "name": "Real Assets & Natural Resources",
         "type": "bar",
         "x": [
          1998,
          1999,
          2000,
          2001,
          2002,
          2003,
          2004,
          2005,
          2006,
          2007,
          2008,
          2009,
          2010,
          2011,
          2012,
          2013,
          2014,
          2015,
          2016,
          2017,
          2018,
          2019,
          2020,
          2021,
          2022,
          2023,
          2024
         ],
         "y": [
          0,
          0,
          0,
          0,
          0,
          0,
          0,
          0,
          806101221,
          250332708,
          800996355,
          0,
          204395686,
          0,
          0,
          145975980,
          316985049,
          304639305,
          0,
          290063879,
          76357288,
          0,
          0,
          0,
          0,
          0,
          0
         ]
        },
        {
         "hovertemplate": "Real Estate<br>Year: %{x}<br>Amount: $%{y:,.0f}<br><extra></extra>",
         "name": "Real Estate",
         "type": "bar",
         "x": [
          1998,
          1999,
          2000,
          2001,
          2002,
          2003,
          2004,
          2005,
          2006,
          2007,
          2008,
          2009,
          2010,
          2011,
          2012,
          2013,
          2014,
          2015,
          2016,
          2017,
          2018,
          2019,
          2020,
          2021,
          2022,
          2023,
          2024
         ],
         "y": [
          0,
          0,
          0,
          0,
          0,
          0,
          0,
          0,
          0,
          0,
          0,
          0,
          0,
          0,
          0,
          0,
          0,
          0,
          0,
          0,
          0,
          595859423,
          0,
          15178999,
          0,
          0,
          0
         ]
        },
        {
         "hovertemplate": "Secondaries<br>Year: %{x}<br>Amount: $%{y:,.0f}<br><extra></extra>",
         "name": "Secondaries",
         "type": "bar",
         "x": [
          1998,
          1999,
          2000,
          2001,
          2002,
          2003,
          2004,
          2005,
          2006,
          2007,
          2008,
          2009,
          2010,
          2011,
          2012,
          2013,
          2014,
          2015,
          2016,
          2017,
          2018,
          2019,
          2020,
          2021,
          2022,
          2023,
          2024
         ],
         "y": [
          0,
          0,
          0,
          0,
          0,
          0,
          49246837,
          0,
          0,
          0,
          0,
          0,
          0,
          0,
          74591478,
          0,
          0,
          0,
          124028075,
          0,
          0,
          0,
          0,
          0,
          95312034,
          0,
          0
         ]
        },
        {
         "hovertemplate": "Venture Capital<br>Year: %{x}<br>Amount: $%{y:,.0f}<br><extra></extra>",
         "name": "Venture Capital",
         "type": "bar",
         "x": [
          1998,
          1999,
          2000,
          2001,
          2002,
          2003,
          2004,
          2005,
          2006,
          2007,
          2008,
          2009,
          2010,
          2011,
          2012,
          2013,
          2014,
          2015,
          2016,
          2017,
          2018,
          2019,
          2020,
          2021,
          2022,
          2023,
          2024
         ],
         "y": [
          50000000,
          58800000,
          425000000,
          25000000,
          0,
          0,
          228976887,
          139657213,
          281920538,
          50000000,
          241995505,
          65000000,
          0,
          92778472,
          202692044,
          51717440,
          143914142,
          315398192,
          104410702,
          364927976,
          120773832,
          381978342,
          41281805,
          622263585,
          53721568,
          7500000,
          2399214
         ]
        }
       ],
       "layout": {
        "annotations": [
         {
          "font": {
           "family": "Avenir",
           "size": 14
          },
          "showarrow": false,
          "text": "$0.1B",
          "x": 1998,
          "y": 50000000,
          "yshift": 10
         },
         {
          "font": {
           "family": "Avenir",
           "size": 14
          },
          "showarrow": false,
          "text": "$0.4B",
          "x": 1999,
          "y": 418417716,
          "yshift": 10
         },
         {
          "font": {
           "family": "Avenir",
           "size": 14
          },
          "showarrow": false,
          "text": "$1.5B",
          "x": 2000,
          "y": 1501264358,
          "yshift": 10
         },
         {
          "font": {
           "family": "Avenir",
           "size": 14
          },
          "showarrow": false,
          "text": "$0.3B",
          "x": 2001,
          "y": 323391553,
          "yshift": 10
         },
         {
          "font": {
           "family": "Avenir",
           "size": 14
          },
          "showarrow": false,
          "text": "$0.3B",
          "x": 2002,
          "y": 259515793,
          "yshift": 10
         },
         {
          "font": {
           "family": "Avenir",
           "size": 14
          },
          "showarrow": false,
          "text": "$0.9B",
          "x": 2003,
          "y": 856059479,
          "yshift": 10
         },
         {
          "font": {
           "family": "Avenir",
           "size": 14
          },
          "showarrow": false,
          "text": "$0.9B",
          "x": 2004,
          "y": 883690349,
          "yshift": 10
         },
         {
          "font": {
           "family": "Avenir",
           "size": 14
          },
          "showarrow": false,
          "text": "$2.2B",
          "x": 2005,
          "y": 2212519898,
          "yshift": 10
         },
         {
          "font": {
           "family": "Avenir",
           "size": 14
          },
          "showarrow": false,
          "text": "$5.4B",
          "x": 2006,
          "y": 5432296126,
          "yshift": 10
         },
         {
          "font": {
           "family": "Avenir",
           "size": 14
          },
          "showarrow": false,
          "text": "$5.7B",
          "x": 2007,
          "y": 5745997171,
          "yshift": 10
         },
         {
          "font": {
           "family": "Avenir",
           "size": 14
          },
          "showarrow": false,
          "text": "$4.5B",
          "x": 2008,
          "y": 4533247739,
          "yshift": 10
         },
         {
          "font": {
           "family": "Avenir",
           "size": 14
          },
          "showarrow": false,
          "text": "$0.6B",
          "x": 2009,
          "y": 608453532,
          "yshift": 10
         },
         {
          "font": {
           "family": "Avenir",
           "size": 14
          },
          "showarrow": false,
          "text": "$0.6B",
          "x": 2010,
          "y": 585946169,
          "yshift": 10
         },
         {
          "font": {
           "family": "Avenir",
           "size": 14
          },
          "showarrow": false,
          "text": "$2.0B",
          "x": 2011,
          "y": 2044303082,
          "yshift": 10
         },
         {
          "font": {
           "family": "Avenir",
           "size": 14
          },
          "showarrow": false,
          "text": "$1.6B",
          "x": 2012,
          "y": 1614566854,
          "yshift": 10
         },
         {
          "font": {
           "family": "Avenir",
           "size": 14
          },
          "showarrow": false,
          "text": "$0.9B",
          "x": 2013,
          "y": 932349279,
          "yshift": 10
         },
         {
          "font": {
           "family": "Avenir",
           "size": 14
          },
          "showarrow": false,
          "text": "$2.9B",
          "x": 2014,
          "y": 2947150653,
          "yshift": 10
         },
         {
          "font": {
           "family": "Avenir",
           "size": 14
          },
          "showarrow": false,
          "text": "$3.1B",
          "x": 2015,
          "y": 3053780599,
          "yshift": 10
         },
         {
          "font": {
           "family": "Avenir",
           "size": 14
          },
          "showarrow": false,
          "text": "$3.1B",
          "x": 2016,
          "y": 3104639494,
          "yshift": 10
         },
         {
          "font": {
           "family": "Avenir",
           "size": 14
          },
          "showarrow": false,
          "text": "$4.4B",
          "x": 2017,
          "y": 4437064620,
          "yshift": 10
         },
         {
          "font": {
           "family": "Avenir",
           "size": 14
          },
          "showarrow": false,
          "text": "$5.9B",
          "x": 2018,
          "y": 5895268719,
          "yshift": 10
         },
         {
          "font": {
           "family": "Avenir",
           "size": 14
          },
          "showarrow": false,
          "text": "$5.5B",
          "x": 2019,
          "y": 5531833413,
          "yshift": 10
         },
         {
          "font": {
           "family": "Avenir",
           "size": 14
          },
          "showarrow": false,
          "text": "$4.6B",
          "x": 2020,
          "y": 4616626022,
          "yshift": 10
         },
         {
          "font": {
           "family": "Avenir",
           "size": 14
          },
          "showarrow": false,
          "text": "$7.1B",
          "x": 2021,
          "y": 7125460129,
          "yshift": 10
         },
         {
          "font": {
           "family": "Avenir",
           "size": 14
          },
          "showarrow": false,
          "text": "$1.8B",
          "x": 2022,
          "y": 1819908398,
          "yshift": 10
         },
         {
          "font": {
           "family": "Avenir",
           "size": 14
          },
          "showarrow": false,
          "text": "$0.6B",
          "x": 2023,
          "y": 559086739,
          "yshift": 10
         },
         {
          "font": {
           "family": "Avenir",
           "size": 14
          },
          "showarrow": false,
          "text": "$0.2B",
          "x": 2024,
          "y": 222791024,
          "yshift": 10
         }
        ],
        "barmode": "stack",
        "height": 800,
        "legend": {
         "font": {
          "family": "Avenir",
          "size": 14
         },
         "orientation": "h",
         "x": 0.5,
         "xanchor": "center",
         "y": -0.15,
         "yanchor": "bottom"
        },
        "margin": {
         "b": 50,
         "l": 50,
         "r": 50,
         "t": 100
        },
        "plot_bgcolor": "white",
        "showlegend": true,
        "template": {
         "data": {
          "bar": [
           {
            "error_x": {
             "color": "#2a3f5f"
            },
            "error_y": {
             "color": "#2a3f5f"
            },
            "marker": {
             "line": {
              "color": "#E5ECF6",
              "width": 0.5
             },
             "pattern": {
              "fillmode": "overlay",
              "size": 10,
              "solidity": 0.2
             }
            },
            "type": "bar"
           }
          ],
          "barpolar": [
           {
            "marker": {
             "line": {
              "color": "#E5ECF6",
              "width": 0.5
             },
             "pattern": {
              "fillmode": "overlay",
              "size": 10,
              "solidity": 0.2
             }
            },
            "type": "barpolar"
           }
          ],
          "carpet": [
           {
            "aaxis": {
             "endlinecolor": "#2a3f5f",
             "gridcolor": "white",
             "linecolor": "white",
             "minorgridcolor": "white",
             "startlinecolor": "#2a3f5f"
            },
            "baxis": {
             "endlinecolor": "#2a3f5f",
             "gridcolor": "white",
             "linecolor": "white",
             "minorgridcolor": "white",
             "startlinecolor": "#2a3f5f"
            },
            "type": "carpet"
           }
          ],
          "choropleth": [
           {
            "colorbar": {
             "outlinewidth": 0,
             "ticks": ""
            },
            "type": "choropleth"
           }
          ],
          "contour": [
           {
            "colorbar": {
             "outlinewidth": 0,
             "ticks": ""
            },
            "colorscale": [
             [
              0,
              "#0d0887"
             ],
             [
              0.1111111111111111,
              "#46039f"
             ],
             [
              0.2222222222222222,
              "#7201a8"
             ],
             [
              0.3333333333333333,
              "#9c179e"
             ],
             [
              0.4444444444444444,
              "#bd3786"
             ],
             [
              0.5555555555555556,
              "#d8576b"
             ],
             [
              0.6666666666666666,
              "#ed7953"
             ],
             [
              0.7777777777777778,
              "#fb9f3a"
             ],
             [
              0.8888888888888888,
              "#fdca26"
             ],
             [
              1,
              "#f0f921"
             ]
            ],
            "type": "contour"
           }
          ],
          "contourcarpet": [
           {
            "colorbar": {
             "outlinewidth": 0,
             "ticks": ""
            },
            "type": "contourcarpet"
           }
          ],
          "heatmap": [
           {
            "colorbar": {
             "outlinewidth": 0,
             "ticks": ""
            },
            "colorscale": [
             [
              0,
              "#0d0887"
             ],
             [
              0.1111111111111111,
              "#46039f"
             ],
             [
              0.2222222222222222,
              "#7201a8"
             ],
             [
              0.3333333333333333,
              "#9c179e"
             ],
             [
              0.4444444444444444,
              "#bd3786"
             ],
             [
              0.5555555555555556,
              "#d8576b"
             ],
             [
              0.6666666666666666,
              "#ed7953"
             ],
             [
              0.7777777777777778,
              "#fb9f3a"
             ],
             [
              0.8888888888888888,
              "#fdca26"
             ],
             [
              1,
              "#f0f921"
             ]
            ],
            "type": "heatmap"
           }
          ],
          "heatmapgl": [
           {
            "colorbar": {
             "outlinewidth": 0,
             "ticks": ""
            },
            "colorscale": [
             [
              0,
              "#0d0887"
             ],
             [
              0.1111111111111111,
              "#46039f"
             ],
             [
              0.2222222222222222,
              "#7201a8"
             ],
             [
              0.3333333333333333,
              "#9c179e"
             ],
             [
              0.4444444444444444,
              "#bd3786"
             ],
             [
              0.5555555555555556,
              "#d8576b"
             ],
             [
              0.6666666666666666,
              "#ed7953"
             ],
             [
              0.7777777777777778,
              "#fb9f3a"
             ],
             [
              0.8888888888888888,
              "#fdca26"
             ],
             [
              1,
              "#f0f921"
             ]
            ],
            "type": "heatmapgl"
           }
          ],
          "histogram": [
           {
            "marker": {
             "pattern": {
              "fillmode": "overlay",
              "size": 10,
              "solidity": 0.2
             }
            },
            "type": "histogram"
           }
          ],
          "histogram2d": [
           {
            "colorbar": {
             "outlinewidth": 0,
             "ticks": ""
            },
            "colorscale": [
             [
              0,
              "#0d0887"
             ],
             [
              0.1111111111111111,
              "#46039f"
             ],
             [
              0.2222222222222222,
              "#7201a8"
             ],
             [
              0.3333333333333333,
              "#9c179e"
             ],
             [
              0.4444444444444444,
              "#bd3786"
             ],
             [
              0.5555555555555556,
              "#d8576b"
             ],
             [
              0.6666666666666666,
              "#ed7953"
             ],
             [
              0.7777777777777778,
              "#fb9f3a"
             ],
             [
              0.8888888888888888,
              "#fdca26"
             ],
             [
              1,
              "#f0f921"
             ]
            ],
            "type": "histogram2d"
           }
          ],
          "histogram2dcontour": [
           {
            "colorbar": {
             "outlinewidth": 0,
             "ticks": ""
            },
            "colorscale": [
             [
              0,
              "#0d0887"
             ],
             [
              0.1111111111111111,
              "#46039f"
             ],
             [
              0.2222222222222222,
              "#7201a8"
             ],
             [
              0.3333333333333333,
              "#9c179e"
             ],
             [
              0.4444444444444444,
              "#bd3786"
             ],
             [
              0.5555555555555556,
              "#d8576b"
             ],
             [
              0.6666666666666666,
              "#ed7953"
             ],
             [
              0.7777777777777778,
              "#fb9f3a"
             ],
             [
              0.8888888888888888,
              "#fdca26"
             ],
             [
              1,
              "#f0f921"
             ]
            ],
            "type": "histogram2dcontour"
           }
          ],
          "mesh3d": [
           {
            "colorbar": {
             "outlinewidth": 0,
             "ticks": ""
            },
            "type": "mesh3d"
           }
          ],
          "parcoords": [
           {
            "line": {
             "colorbar": {
              "outlinewidth": 0,
              "ticks": ""
             }
            },
            "type": "parcoords"
           }
          ],
          "pie": [
           {
            "automargin": true,
            "type": "pie"
           }
          ],
          "scatter": [
           {
            "fillpattern": {
             "fillmode": "overlay",
             "size": 10,
             "solidity": 0.2
            },
            "type": "scatter"
           }
          ],
          "scatter3d": [
           {
            "line": {
             "colorbar": {
              "outlinewidth": 0,
              "ticks": ""
             }
            },
            "marker": {
             "colorbar": {
              "outlinewidth": 0,
              "ticks": ""
             }
            },
            "type": "scatter3d"
           }
          ],
          "scattercarpet": [
           {
            "marker": {
             "colorbar": {
              "outlinewidth": 0,
              "ticks": ""
             }
            },
            "type": "scattercarpet"
           }
          ],
          "scattergeo": [
           {
            "marker": {
             "colorbar": {
              "outlinewidth": 0,
              "ticks": ""
             }
            },
            "type": "scattergeo"
           }
          ],
          "scattergl": [
           {
            "marker": {
             "colorbar": {
              "outlinewidth": 0,
              "ticks": ""
             }
            },
            "type": "scattergl"
           }
          ],
          "scattermapbox": [
           {
            "marker": {
             "colorbar": {
              "outlinewidth": 0,
              "ticks": ""
             }
            },
            "type": "scattermapbox"
           }
          ],
          "scatterpolar": [
           {
            "marker": {
             "colorbar": {
              "outlinewidth": 0,
              "ticks": ""
             }
            },
            "type": "scatterpolar"
           }
          ],
          "scatterpolargl": [
           {
            "marker": {
             "colorbar": {
              "outlinewidth": 0,
              "ticks": ""
             }
            },
            "type": "scatterpolargl"
           }
          ],
          "scatterternary": [
           {
            "marker": {
             "colorbar": {
              "outlinewidth": 0,
              "ticks": ""
             }
            },
            "type": "scatterternary"
           }
          ],
          "surface": [
           {
            "colorbar": {
             "outlinewidth": 0,
             "ticks": ""
            },
            "colorscale": [
             [
              0,
              "#0d0887"
             ],
             [
              0.1111111111111111,
              "#46039f"
             ],
             [
              0.2222222222222222,
              "#7201a8"
             ],
             [
              0.3333333333333333,
              "#9c179e"
             ],
             [
              0.4444444444444444,
              "#bd3786"
             ],
             [
              0.5555555555555556,
              "#d8576b"
             ],
             [
              0.6666666666666666,
              "#ed7953"
             ],
             [
              0.7777777777777778,
              "#fb9f3a"
             ],
             [
              0.8888888888888888,
              "#fdca26"
             ],
             [
              1,
              "#f0f921"
             ]
            ],
            "type": "surface"
           }
          ],
          "table": [
           {
            "cells": {
             "fill": {
              "color": "#EBF0F8"
             },
             "line": {
              "color": "white"
             }
            },
            "header": {
             "fill": {
              "color": "#C8D4E3"
             },
             "line": {
              "color": "white"
             }
            },
            "type": "table"
           }
          ]
         },
         "layout": {
          "annotationdefaults": {
           "arrowcolor": "#2a3f5f",
           "arrowhead": 0,
           "arrowwidth": 1
          },
          "autotypenumbers": "strict",
          "coloraxis": {
           "colorbar": {
            "outlinewidth": 0,
            "ticks": ""
           }
          },
          "colorscale": {
           "diverging": [
            [
             0,
             "#8e0152"
            ],
            [
             0.1,
             "#c51b7d"
            ],
            [
             0.2,
             "#de77ae"
            ],
            [
             0.3,
             "#f1b6da"
            ],
            [
             0.4,
             "#fde0ef"
            ],
            [
             0.5,
             "#f7f7f7"
            ],
            [
             0.6,
             "#e6f5d0"
            ],
            [
             0.7,
             "#b8e186"
            ],
            [
             0.8,
             "#7fbc41"
            ],
            [
             0.9,
             "#4d9221"
            ],
            [
             1,
             "#276419"
            ]
           ],
           "sequential": [
            [
             0,
             "#0d0887"
            ],
            [
             0.1111111111111111,
             "#46039f"
            ],
            [
             0.2222222222222222,
             "#7201a8"
            ],
            [
             0.3333333333333333,
             "#9c179e"
            ],
            [
             0.4444444444444444,
             "#bd3786"
            ],
            [
             0.5555555555555556,
             "#d8576b"
            ],
            [
             0.6666666666666666,
             "#ed7953"
            ],
            [
             0.7777777777777778,
             "#fb9f3a"
            ],
            [
             0.8888888888888888,
             "#fdca26"
            ],
            [
             1,
             "#f0f921"
            ]
           ],
           "sequentialminus": [
            [
             0,
             "#0d0887"
            ],
            [
             0.1111111111111111,
             "#46039f"
            ],
            [
             0.2222222222222222,
             "#7201a8"
            ],
            [
             0.3333333333333333,
             "#9c179e"
            ],
            [
             0.4444444444444444,
             "#bd3786"
            ],
            [
             0.5555555555555556,
             "#d8576b"
            ],
            [
             0.6666666666666666,
             "#ed7953"
            ],
            [
             0.7777777777777778,
             "#fb9f3a"
            ],
            [
             0.8888888888888888,
             "#fdca26"
            ],
            [
             1,
             "#f0f921"
            ]
           ]
          },
          "colorway": [
           "#636efa",
           "#EF553B",
           "#00cc96",
           "#ab63fa",
           "#FFA15A",
           "#19d3f3",
           "#FF6692",
           "#B6E880",
           "#FF97FF",
           "#FECB52"
          ],
          "font": {
           "color": "#2a3f5f"
          },
          "geo": {
           "bgcolor": "white",
           "lakecolor": "white",
           "landcolor": "#E5ECF6",
           "showlakes": true,
           "showland": true,
           "subunitcolor": "white"
          },
          "hoverlabel": {
           "align": "left"
          },
          "hovermode": "closest",
          "mapbox": {
           "style": "light"
          },
          "paper_bgcolor": "white",
          "plot_bgcolor": "#E5ECF6",
          "polar": {
           "angularaxis": {
            "gridcolor": "white",
            "linecolor": "white",
            "ticks": ""
           },
           "bgcolor": "#E5ECF6",
           "radialaxis": {
            "gridcolor": "white",
            "linecolor": "white",
            "ticks": ""
           }
          },
          "scene": {
           "xaxis": {
            "backgroundcolor": "#E5ECF6",
            "gridcolor": "white",
            "gridwidth": 2,
            "linecolor": "white",
            "showbackground": true,
            "ticks": "",
            "zerolinecolor": "white"
           },
           "yaxis": {
            "backgroundcolor": "#E5ECF6",
            "gridcolor": "white",
            "gridwidth": 2,
            "linecolor": "white",
            "showbackground": true,
            "ticks": "",
            "zerolinecolor": "white"
           },
           "zaxis": {
            "backgroundcolor": "#E5ECF6",
            "gridcolor": "white",
            "gridwidth": 2,
            "linecolor": "white",
            "showbackground": true,
            "ticks": "",
            "zerolinecolor": "white"
           }
          },
          "shapedefaults": {
           "line": {
            "color": "#2a3f5f"
           }
          },
          "ternary": {
           "aaxis": {
            "gridcolor": "white",
            "linecolor": "white",
            "ticks": ""
           },
           "baxis": {
            "gridcolor": "white",
            "linecolor": "white",
            "ticks": ""
           },
           "bgcolor": "#E5ECF6",
           "caxis": {
            "gridcolor": "white",
            "linecolor": "white",
            "ticks": ""
           }
          },
          "title": {
           "x": 0.05
          },
          "xaxis": {
           "automargin": true,
           "gridcolor": "white",
           "linecolor": "white",
           "ticks": "",
           "title": {
            "standoff": 15
           },
           "zerolinecolor": "white",
           "zerolinewidth": 2
          },
          "yaxis": {
           "automargin": true,
           "gridcolor": "white",
           "linecolor": "white",
           "ticks": "",
           "title": {
            "standoff": 15
           },
           "zerolinecolor": "white",
           "zerolinewidth": 2
          }
         }
        },
        "title": {
         "font": {
          "family": "Avenir",
          "size": 25
         },
         "text": "<b>Capital Deployment by Year and Strategy</b>",
         "x": 0.5,
         "xanchor": "center",
         "y": 0.95,
         "yanchor": "top"
        },
        "xaxis": {
         "dtick": 1,
         "gridcolor": "lightgrey",
         "tickfont": {
          "family": "Avenir",
          "size": 16
         },
         "title": {
          "font": {
           "family": "Avenir",
           "size": 18
          },
          "text": "Vintage Year"
         }
        },
        "yaxis": {
         "gridcolor": "lightgrey",
         "tickfont": {
          "family": "Avenir",
          "size": 16
         },
         "tickmode": "array",
         "ticktext": [
          "0",
          "$0.5B",
          "$1.0B",
          "$1.5B",
          "$2.0B",
          "$2.5B",
          "$3.0B",
          "$3.5B",
          "$4.0B",
          "$4.5B",
          "$5.0B",
          "$5.5B",
          "$6.0B",
          "$6.5B",
          "$7.0B",
          "$7.5B",
          "$8.0B",
          "$8.5B"
         ],
         "tickvals": [
          0,
          500000000,
          1000000000,
          1500000000,
          2000000000,
          2500000000,
          3000000000,
          3500000000,
          4000000000,
          4500000000,
          5000000000,
          5500000000,
          6000000000,
          6500000000,
          7000000000,
          7500000000,
          8000000000,
          8500000000
         ],
         "title": {
          "font": {
           "family": "Avenir",
           "size": 18
          },
          "text": "Capital Contributed ($)"
         }
        }
       }
      }
     },
     "metadata": {},
     "output_type": "display_data"
    }
   ],
   "source": [
    "figures[\"deployment\"].show()"
   ]
  },
  {
   "cell_type": "code",
   "execution_count": 156,
   "metadata": {},
   "outputs": [
    {
     "data": {
      "application/vnd.plotly.v1+json": {
       "config": {
        "plotlyServerURL": "https://plot.ly"
       },
       "data": [
        {
         "hovertemplate": "Year: %{x}<br>Amount: $%{y:,.0f}<br><extra></extra>",
         "marker": {
          "color": "rgb(30,144,255)"
         },
         "name": "VC Deployment",
         "text": [
          "$50M",
          "$59M",
          "$425M",
          "$25M",
          "$0M",
          "$0M",
          "$229M",
          "$140M",
          "$282M",
          "$50M",
          "$242M",
          "$65M",
          "$0M",
          "$93M",
          "$203M",
          "$52M",
          "$144M",
          "$315M",
          "$104M",
          "$365M",
          "$121M",
          "$382M",
          "$41M",
          "$622M",
          "$54M",
          "$8M",
          "$2M"
         ],
         "textposition": "outside",
         "type": "bar",
         "x": [
          1998,
          1999,
          2000,
          2001,
          2002,
          2003,
          2004,
          2005,
          2006,
          2007,
          2008,
          2009,
          2010,
          2011,
          2012,
          2013,
          2014,
          2015,
          2016,
          2017,
          2018,
          2019,
          2020,
          2021,
          2022,
          2023,
          2024
         ],
         "y": [
          50000000,
          58800000,
          425000000,
          25000000,
          0,
          0,
          228976887,
          139657213,
          281920538,
          50000000,
          241995505,
          65000000,
          0,
          92778472,
          202692044,
          51717440,
          143914142,
          315398192,
          104410702,
          364927976,
          120773832,
          381978342,
          41281805,
          622263585,
          53721568,
          7500000,
          2399214
         ]
        },
        {
         "hovertemplate": "Year: %{x}<br>Percentage: %{y:.1f}%<br><extra></extra>",
         "line": {
          "color": "rgb(60,179,113)",
          "width": 2
         },
         "marker": {
          "size": 8
         },
         "mode": "lines+markers+text",
         "name": "% of Total PE Deployment",
         "text": [
          "100.0%",
          "14.1%",
          "28.3%",
          "7.7%",
          "0.0%",
          "0.0%",
          "25.9%",
          "6.3%",
          "5.2%",
          "0.9%",
          "5.3%",
          "10.7%",
          "0.0%",
          "4.5%",
          "12.6%",
          "5.5%",
          "4.9%",
          "10.3%",
          "3.4%",
          "8.2%",
          "2.0%",
          "6.9%",
          "0.9%",
          "8.7%",
          "3.0%",
          "1.3%",
          "1.1%"
         ],
         "textposition": "top center",
         "type": "scatter",
         "x": [
          1998,
          1999,
          2000,
          2001,
          2002,
          2003,
          2004,
          2005,
          2006,
          2007,
          2008,
          2009,
          2010,
          2011,
          2012,
          2013,
          2014,
          2015,
          2016,
          2017,
          2018,
          2019,
          2020,
          2021,
          2022,
          2023,
          2024
         ],
         "y": [
          100,
          14.052942251613457,
          28.30947112913474,
          7.730566790654548,
          0,
          0,
          25.911439143713,
          6.312133650243899,
          5.189712259069877,
          0.8701709818506278,
          5.338236931506911,
          10.682820721961066,
          0,
          4.538391240365013,
          12.55395795459579,
          5.547002734369037,
          4.883162041733603,
          10.3281222005039,
          3.363053977822006,
          8.224535977120837,
          2.0486569443519205,
          6.905094811827444,
          0.8941985944556979,
          8.732960029731155,
          2.951883076040402,
          1.3414734202808556,
          1.0768898840376981
         ],
         "yaxis": "y2"
        }
       ],
       "layout": {
        "height": 800,
        "legend": {
         "font": {
          "family": "Avenir",
          "size": 14
         },
         "orientation": "h",
         "x": 0.5,
         "xanchor": "center",
         "y": -0.15,
         "yanchor": "bottom"
        },
        "margin": {
         "b": 50,
         "l": 50,
         "r": 50,
         "t": 100
        },
        "plot_bgcolor": "white",
        "showlegend": true,
        "template": {
         "data": {
          "bar": [
           {
            "error_x": {
             "color": "#2a3f5f"
            },
            "error_y": {
             "color": "#2a3f5f"
            },
            "marker": {
             "line": {
              "color": "#E5ECF6",
              "width": 0.5
             },
             "pattern": {
              "fillmode": "overlay",
              "size": 10,
              "solidity": 0.2
             }
            },
            "type": "bar"
           }
          ],
          "barpolar": [
           {
            "marker": {
             "line": {
              "color": "#E5ECF6",
              "width": 0.5
             },
             "pattern": {
              "fillmode": "overlay",
              "size": 10,
              "solidity": 0.2
             }
            },
            "type": "barpolar"
           }
          ],
          "carpet": [
           {
            "aaxis": {
             "endlinecolor": "#2a3f5f",
             "gridcolor": "white",
             "linecolor": "white",
             "minorgridcolor": "white",
             "startlinecolor": "#2a3f5f"
            },
            "baxis": {
             "endlinecolor": "#2a3f5f",
             "gridcolor": "white",
             "linecolor": "white",
             "minorgridcolor": "white",
             "startlinecolor": "#2a3f5f"
            },
            "type": "carpet"
           }
          ],
          "choropleth": [
           {
            "colorbar": {
             "outlinewidth": 0,
             "ticks": ""
            },
            "type": "choropleth"
           }
          ],
          "contour": [
           {
            "colorbar": {
             "outlinewidth": 0,
             "ticks": ""
            },
            "colorscale": [
             [
              0,
              "#0d0887"
             ],
             [
              0.1111111111111111,
              "#46039f"
             ],
             [
              0.2222222222222222,
              "#7201a8"
             ],
             [
              0.3333333333333333,
              "#9c179e"
             ],
             [
              0.4444444444444444,
              "#bd3786"
             ],
             [
              0.5555555555555556,
              "#d8576b"
             ],
             [
              0.6666666666666666,
              "#ed7953"
             ],
             [
              0.7777777777777778,
              "#fb9f3a"
             ],
             [
              0.8888888888888888,
              "#fdca26"
             ],
             [
              1,
              "#f0f921"
             ]
            ],
            "type": "contour"
           }
          ],
          "contourcarpet": [
           {
            "colorbar": {
             "outlinewidth": 0,
             "ticks": ""
            },
            "type": "contourcarpet"
           }
          ],
          "heatmap": [
           {
            "colorbar": {
             "outlinewidth": 0,
             "ticks": ""
            },
            "colorscale": [
             [
              0,
              "#0d0887"
             ],
             [
              0.1111111111111111,
              "#46039f"
             ],
             [
              0.2222222222222222,
              "#7201a8"
             ],
             [
              0.3333333333333333,
              "#9c179e"
             ],
             [
              0.4444444444444444,
              "#bd3786"
             ],
             [
              0.5555555555555556,
              "#d8576b"
             ],
             [
              0.6666666666666666,
              "#ed7953"
             ],
             [
              0.7777777777777778,
              "#fb9f3a"
             ],
             [
              0.8888888888888888,
              "#fdca26"
             ],
             [
              1,
              "#f0f921"
             ]
            ],
            "type": "heatmap"
           }
          ],
          "heatmapgl": [
           {
            "colorbar": {
             "outlinewidth": 0,
             "ticks": ""
            },
            "colorscale": [
             [
              0,
              "#0d0887"
             ],
             [
              0.1111111111111111,
              "#46039f"
             ],
             [
              0.2222222222222222,
              "#7201a8"
             ],
             [
              0.3333333333333333,
              "#9c179e"
             ],
             [
              0.4444444444444444,
              "#bd3786"
             ],
             [
              0.5555555555555556,
              "#d8576b"
             ],
             [
              0.6666666666666666,
              "#ed7953"
             ],
             [
              0.7777777777777778,
              "#fb9f3a"
             ],
             [
              0.8888888888888888,
              "#fdca26"
             ],
             [
              1,
              "#f0f921"
             ]
            ],
            "type": "heatmapgl"
           }
          ],
          "histogram": [
           {
            "marker": {
             "pattern": {
              "fillmode": "overlay",
              "size": 10,
              "solidity": 0.2
             }
            },
            "type": "histogram"
           }
          ],
          "histogram2d": [
           {
            "colorbar": {
             "outlinewidth": 0,
             "ticks": ""
            },
            "colorscale": [
             [
              0,
              "#0d0887"
             ],
             [
              0.1111111111111111,
              "#46039f"
             ],
             [
              0.2222222222222222,
              "#7201a8"
             ],
             [
              0.3333333333333333,
              "#9c179e"
             ],
             [
              0.4444444444444444,
              "#bd3786"
             ],
             [
              0.5555555555555556,
              "#d8576b"
             ],
             [
              0.6666666666666666,
              "#ed7953"
             ],
             [
              0.7777777777777778,
              "#fb9f3a"
             ],
             [
              0.8888888888888888,
              "#fdca26"
             ],
             [
              1,
              "#f0f921"
             ]
            ],
            "type": "histogram2d"
           }
          ],
          "histogram2dcontour": [
           {
            "colorbar": {
             "outlinewidth": 0,
             "ticks": ""
            },
            "colorscale": [
             [
              0,
              "#0d0887"
             ],
             [
              0.1111111111111111,
              "#46039f"
             ],
             [
              0.2222222222222222,
              "#7201a8"
             ],
             [
              0.3333333333333333,
              "#9c179e"
             ],
             [
              0.4444444444444444,
              "#bd3786"
             ],
             [
              0.5555555555555556,
              "#d8576b"
             ],
             [
              0.6666666666666666,
              "#ed7953"
             ],
             [
              0.7777777777777778,
              "#fb9f3a"
             ],
             [
              0.8888888888888888,
              "#fdca26"
             ],
             [
              1,
              "#f0f921"
             ]
            ],
            "type": "histogram2dcontour"
           }
          ],
          "mesh3d": [
           {
            "colorbar": {
             "outlinewidth": 0,
             "ticks": ""
            },
            "type": "mesh3d"
           }
          ],
          "parcoords": [
           {
            "line": {
             "colorbar": {
              "outlinewidth": 0,
              "ticks": ""
             }
            },
            "type": "parcoords"
           }
          ],
          "pie": [
           {
            "automargin": true,
            "type": "pie"
           }
          ],
          "scatter": [
           {
            "fillpattern": {
             "fillmode": "overlay",
             "size": 10,
             "solidity": 0.2
            },
            "type": "scatter"
           }
          ],
          "scatter3d": [
           {
            "line": {
             "colorbar": {
              "outlinewidth": 0,
              "ticks": ""
             }
            },
            "marker": {
             "colorbar": {
              "outlinewidth": 0,
              "ticks": ""
             }
            },
            "type": "scatter3d"
           }
          ],
          "scattercarpet": [
           {
            "marker": {
             "colorbar": {
              "outlinewidth": 0,
              "ticks": ""
             }
            },
            "type": "scattercarpet"
           }
          ],
          "scattergeo": [
           {
            "marker": {
             "colorbar": {
              "outlinewidth": 0,
              "ticks": ""
             }
            },
            "type": "scattergeo"
           }
          ],
          "scattergl": [
           {
            "marker": {
             "colorbar": {
              "outlinewidth": 0,
              "ticks": ""
             }
            },
            "type": "scattergl"
           }
          ],
          "scattermapbox": [
           {
            "marker": {
             "colorbar": {
              "outlinewidth": 0,
              "ticks": ""
             }
            },
            "type": "scattermapbox"
           }
          ],
          "scatterpolar": [
           {
            "marker": {
             "colorbar": {
              "outlinewidth": 0,
              "ticks": ""
             }
            },
            "type": "scatterpolar"
           }
          ],
          "scatterpolargl": [
           {
            "marker": {
             "colorbar": {
              "outlinewidth": 0,
              "ticks": ""
             }
            },
            "type": "scatterpolargl"
           }
          ],
          "scatterternary": [
           {
            "marker": {
             "colorbar": {
              "outlinewidth": 0,
              "ticks": ""
             }
            },
            "type": "scatterternary"
           }
          ],
          "surface": [
           {
            "colorbar": {
             "outlinewidth": 0,
             "ticks": ""
            },
            "colorscale": [
             [
              0,
              "#0d0887"
             ],
             [
              0.1111111111111111,
              "#46039f"
             ],
             [
              0.2222222222222222,
              "#7201a8"
             ],
             [
              0.3333333333333333,
              "#9c179e"
             ],
             [
              0.4444444444444444,
              "#bd3786"
             ],
             [
              0.5555555555555556,
              "#d8576b"
             ],
             [
              0.6666666666666666,
              "#ed7953"
             ],
             [
              0.7777777777777778,
              "#fb9f3a"
             ],
             [
              0.8888888888888888,
              "#fdca26"
             ],
             [
              1,
              "#f0f921"
             ]
            ],
            "type": "surface"
           }
          ],
          "table": [
           {
            "cells": {
             "fill": {
              "color": "#EBF0F8"
             },
             "line": {
              "color": "white"
             }
            },
            "header": {
             "fill": {
              "color": "#C8D4E3"
             },
             "line": {
              "color": "white"
             }
            },
            "type": "table"
           }
          ]
         },
         "layout": {
          "annotationdefaults": {
           "arrowcolor": "#2a3f5f",
           "arrowhead": 0,
           "arrowwidth": 1
          },
          "autotypenumbers": "strict",
          "coloraxis": {
           "colorbar": {
            "outlinewidth": 0,
            "ticks": ""
           }
          },
          "colorscale": {
           "diverging": [
            [
             0,
             "#8e0152"
            ],
            [
             0.1,
             "#c51b7d"
            ],
            [
             0.2,
             "#de77ae"
            ],
            [
             0.3,
             "#f1b6da"
            ],
            [
             0.4,
             "#fde0ef"
            ],
            [
             0.5,
             "#f7f7f7"
            ],
            [
             0.6,
             "#e6f5d0"
            ],
            [
             0.7,
             "#b8e186"
            ],
            [
             0.8,
             "#7fbc41"
            ],
            [
             0.9,
             "#4d9221"
            ],
            [
             1,
             "#276419"
            ]
           ],
           "sequential": [
            [
             0,
             "#0d0887"
            ],
            [
             0.1111111111111111,
             "#46039f"
            ],
            [
             0.2222222222222222,
             "#7201a8"
            ],
            [
             0.3333333333333333,
             "#9c179e"
            ],
            [
             0.4444444444444444,
             "#bd3786"
            ],
            [
             0.5555555555555556,
             "#d8576b"
            ],
            [
             0.6666666666666666,
             "#ed7953"
            ],
            [
             0.7777777777777778,
             "#fb9f3a"
            ],
            [
             0.8888888888888888,
             "#fdca26"
            ],
            [
             1,
             "#f0f921"
            ]
           ],
           "sequentialminus": [
            [
             0,
             "#0d0887"
            ],
            [
             0.1111111111111111,
             "#46039f"
            ],
            [
             0.2222222222222222,
             "#7201a8"
            ],
            [
             0.3333333333333333,
             "#9c179e"
            ],
            [
             0.4444444444444444,
             "#bd3786"
            ],
            [
             0.5555555555555556,
             "#d8576b"
            ],
            [
             0.6666666666666666,
             "#ed7953"
            ],
            [
             0.7777777777777778,
             "#fb9f3a"
            ],
            [
             0.8888888888888888,
             "#fdca26"
            ],
            [
             1,
             "#f0f921"
            ]
           ]
          },
          "colorway": [
           "#636efa",
           "#EF553B",
           "#00cc96",
           "#ab63fa",
           "#FFA15A",
           "#19d3f3",
           "#FF6692",
           "#B6E880",
           "#FF97FF",
           "#FECB52"
          ],
          "font": {
           "color": "#2a3f5f"
          },
          "geo": {
           "bgcolor": "white",
           "lakecolor": "white",
           "landcolor": "#E5ECF6",
           "showlakes": true,
           "showland": true,
           "subunitcolor": "white"
          },
          "hoverlabel": {
           "align": "left"
          },
          "hovermode": "closest",
          "mapbox": {
           "style": "light"
          },
          "paper_bgcolor": "white",
          "plot_bgcolor": "#E5ECF6",
          "polar": {
           "angularaxis": {
            "gridcolor": "white",
            "linecolor": "white",
            "ticks": ""
           },
           "bgcolor": "#E5ECF6",
           "radialaxis": {
            "gridcolor": "white",
            "linecolor": "white",
            "ticks": ""
           }
          },
          "scene": {
           "xaxis": {
            "backgroundcolor": "#E5ECF6",
            "gridcolor": "white",
            "gridwidth": 2,
            "linecolor": "white",
            "showbackground": true,
            "ticks": "",
            "zerolinecolor": "white"
           },
           "yaxis": {
            "backgroundcolor": "#E5ECF6",
            "gridcolor": "white",
            "gridwidth": 2,
            "linecolor": "white",
            "showbackground": true,
            "ticks": "",
            "zerolinecolor": "white"
           },
           "zaxis": {
            "backgroundcolor": "#E5ECF6",
            "gridcolor": "white",
            "gridwidth": 2,
            "linecolor": "white",
            "showbackground": true,
            "ticks": "",
            "zerolinecolor": "white"
           }
          },
          "shapedefaults": {
           "line": {
            "color": "#2a3f5f"
           }
          },
          "ternary": {
           "aaxis": {
            "gridcolor": "white",
            "linecolor": "white",
            "ticks": ""
           },
           "baxis": {
            "gridcolor": "white",
            "linecolor": "white",
            "ticks": ""
           },
           "bgcolor": "#E5ECF6",
           "caxis": {
            "gridcolor": "white",
            "linecolor": "white",
            "ticks": ""
           }
          },
          "title": {
           "x": 0.05
          },
          "xaxis": {
           "automargin": true,
           "gridcolor": "white",
           "linecolor": "white",
           "ticks": "",
           "title": {
            "standoff": 15
           },
           "zerolinecolor": "white",
           "zerolinewidth": 2
          },
          "yaxis": {
           "automargin": true,
           "gridcolor": "white",
           "linecolor": "white",
           "ticks": "",
           "title": {
            "standoff": 15
           },
           "zerolinecolor": "white",
           "zerolinewidth": 2
          }
         }
        },
        "title": {
         "font": {
          "family": "Avenir",
          "size": 25
         },
         "text": "<b>Venture Capital Deployment by Year</b>",
         "x": 0.5,
         "xanchor": "center",
         "y": 0.95,
         "yanchor": "top"
        },
        "xaxis": {
         "dtick": 1,
         "gridcolor": "lightgrey"
        },
        "yaxis": {
         "gridcolor": "lightgrey",
         "tickmode": "array"
        },
        "yaxis2": {
         "overlaying": "y",
         "range": [
          0,
          100
         ],
         "side": "right",
         "tickfont": {
          "family": "Avenir",
          "size": 16
         },
         "ticksuffix": "%",
         "title": {
          "font": {
           "family": "Avenir",
           "size": 18
          },
          "text": "Percentage of Total Deployment"
         }
        }
       }
      }
     },
     "metadata": {},
     "output_type": "display_data"
    }
   ],
   "source": [
    "figures[\"vc_deployment\"].show()"
   ]
  },
  {
   "cell_type": "code",
   "execution_count": 133,
   "metadata": {},
   "outputs": [
    {
     "data": {
      "application/vnd.plotly.v1+json": {
       "config": {
        "plotlyServerURL": "https://plot.ly"
       },
       "data": [
        {
         "hovertemplate": "Year: %{x}<br>Capital Contributed: $%{y:,.0f}<br><extra></extra>",
         "marker": {
          "color": "rgb(200,30,30)"
         },
         "name": "Capital Contributed",
         "text": [
          "-$0.05B",
          "-$0.42B",
          "-$1.50B",
          "-$0.32B",
          "-$0.26B",
          "-$0.86B",
          "-$0.88B",
          "-$2.21B",
          "-$5.43B",
          "-$5.75B",
          "-$4.53B",
          "-$0.61B",
          "-$0.59B",
          "-$2.04B",
          "-$1.61B",
          "-$0.93B",
          "-$2.95B",
          "-$3.05B",
          "-$3.10B",
          "-$4.44B",
          "-$5.90B",
          "-$5.53B",
          "-$4.62B",
          "-$7.13B",
          "-$1.82B",
          "-$0.56B",
          "-$0.22B"
         ],
         "textposition": "outside",
         "type": "bar",
         "x": [
          1998,
          1999,
          2000,
          2001,
          2002,
          2003,
          2004,
          2005,
          2006,
          2007,
          2008,
          2009,
          2010,
          2011,
          2012,
          2013,
          2014,
          2015,
          2016,
          2017,
          2018,
          2019,
          2020,
          2021,
          2022,
          2023,
          2024
         ],
         "y": [
          -50000000,
          -418417716,
          -1501264358,
          -323391553,
          -259515793,
          -856059479,
          -883690349,
          -2212519898,
          -5432296126,
          -5745997171,
          -4533247739,
          -608453532,
          -585946169,
          -2044303082,
          -1614566854,
          -932349279,
          -2947150653,
          -3053780599,
          -3104639494,
          -4437064620,
          -5895268719,
          -5531833413,
          -4616626022,
          -7125460129,
          -1819908398,
          -559086739,
          -222791024
         ]
        },
        {
         "hovertemplate": "Year: %{x}<br>Capital Distributed: $%{y:,.0f}<br><extra></extra>",
         "marker": {
          "color": "rgb(30,144,255)"
         },
         "name": "Capital Distributed",
         "text": [
          "$0.08B",
          "$0.45B",
          "$2.56B",
          "$0.79B",
          "$0.30B",
          "$1.56B",
          "$1.57B",
          "$3.37B",
          "$7.83B",
          "$8.90B",
          "$6.94B",
          "$1.12B",
          "$1.06B",
          "$3.32B",
          "$2.47B",
          "$1.54B",
          "$3.97B",
          "$3.48B",
          "$3.15B",
          "$3.05B",
          "$3.29B",
          "$2.55B",
          "$0.82B",
          "$0.65B",
          "$0.04B",
          "$0.02B",
          "$0.00B"
         ],
         "type": "bar",
         "x": [
          1998,
          1999,
          2000,
          2001,
          2002,
          2003,
          2004,
          2005,
          2006,
          2007,
          2008,
          2009,
          2010,
          2011,
          2012,
          2013,
          2014,
          2015,
          2016,
          2017,
          2018,
          2019,
          2020,
          2021,
          2022,
          2023,
          2024
         ],
         "y": [
          81810107,
          453658482,
          2560614141,
          790073517,
          304793097,
          1559182228,
          1568224851,
          3366697422,
          7828714288,
          8899730873,
          6937408058,
          1121194997,
          1064246746,
          3319675628,
          2473095714,
          1544014652,
          3974241194,
          3480995016,
          3149030459,
          3053029200,
          3294984794,
          2554801294,
          815866715,
          649245104,
          44986184,
          17575929,
          638273
         ]
        },
        {
         "hovertemplate": "Year: %{x}<br>Market Value: $%{y:,.0f}<br><extra></extra>",
         "marker": {
          "color": "rgb(60,179,113)"
         },
         "name": "Market Value",
         "text": [
          "$0.00B",
          "$0.00B",
          "$0.02B",
          "$0.02B",
          "$0.00B",
          "$0.01B",
          "$0.03B",
          "$0.07B",
          "$0.26B",
          "$0.10B",
          "$0.24B",
          "$0.02B",
          "$0.10B",
          "$0.43B",
          "$0.82B",
          "$0.36B",
          "$1.52B",
          "$2.02B",
          "$2.72B",
          "$4.91B",
          "$6.52B",
          "$5.78B",
          "$5.45B",
          "$7.96B",
          "$1.98B",
          "$0.55B",
          "$0.23B"
         ],
         "type": "bar",
         "x": [
          1998,
          1999,
          2000,
          2001,
          2002,
          2003,
          2004,
          2005,
          2006,
          2007,
          2008,
          2009,
          2010,
          2011,
          2012,
          2013,
          2014,
          2015,
          2016,
          2017,
          2018,
          2019,
          2020,
          2021,
          2022,
          2023,
          2024
         ],
         "y": [
          1087404,
          1312682,
          19071635,
          16470441,
          0,
          10250472,
          34947046,
          66056923,
          263399410,
          97262773,
          238506994,
          20069054,
          103966768,
          425701433,
          823005754,
          358133365,
          1517256258,
          2020223853,
          2718656124,
          4905843829,
          6522546556,
          5777160581,
          5447453215,
          7959537922,
          1983327729,
          554581130,
          226910447
         ]
        }
       ],
       "layout": {
        "annotations": [
         {
          "font": {
           "family": "Avenir",
           "size": 14
          },
          "showarrow": false,
          "text": "DPI: 1.64x",
          "x": 1998,
          "y": 82897511,
          "yshift": 25
         },
         {
          "font": {
           "family": "Avenir",
           "size": 14
          },
          "showarrow": false,
          "text": "DPI: 1.08x",
          "x": 1999,
          "y": 454971164,
          "yshift": 25
         },
         {
          "font": {
           "family": "Avenir",
           "size": 14
          },
          "showarrow": false,
          "text": "DPI: 1.71x",
          "x": 2000,
          "y": 2579685776,
          "yshift": 25
         },
         {
          "font": {
           "family": "Avenir",
           "size": 14
          },
          "showarrow": false,
          "text": "DPI: 2.44x",
          "x": 2001,
          "y": 806543958,
          "yshift": 25
         },
         {
          "font": {
           "family": "Avenir",
           "size": 14
          },
          "showarrow": false,
          "text": "DPI: 1.17x",
          "x": 2002,
          "y": 304793097,
          "yshift": 25
         },
         {
          "font": {
           "family": "Avenir",
           "size": 14
          },
          "showarrow": false,
          "text": "DPI: 1.82x",
          "x": 2003,
          "y": 1569432700,
          "yshift": 25
         },
         {
          "font": {
           "family": "Avenir",
           "size": 14
          },
          "showarrow": false,
          "text": "DPI: 1.77x",
          "x": 2004,
          "y": 1603171897,
          "yshift": 25
         },
         {
          "font": {
           "family": "Avenir",
           "size": 14
          },
          "showarrow": false,
          "text": "DPI: 1.52x",
          "x": 2005,
          "y": 3432754345,
          "yshift": 25
         },
         {
          "font": {
           "family": "Avenir",
           "size": 14
          },
          "showarrow": false,
          "text": "DPI: 1.44x",
          "x": 2006,
          "y": 8092113698,
          "yshift": 25
         },
         {
          "font": {
           "family": "Avenir",
           "size": 14
          },
          "showarrow": false,
          "text": "DPI: 1.55x",
          "x": 2007,
          "y": 8996993646,
          "yshift": 25
         },
         {
          "font": {
           "family": "Avenir",
           "size": 14
          },
          "showarrow": false,
          "text": "DPI: 1.53x",
          "x": 2008,
          "y": 7175915052,
          "yshift": 25
         },
         {
          "font": {
           "family": "Avenir",
           "size": 14
          },
          "showarrow": false,
          "text": "DPI: 1.84x",
          "x": 2009,
          "y": 1141264051,
          "yshift": 25
         },
         {
          "font": {
           "family": "Avenir",
           "size": 14
          },
          "showarrow": false,
          "text": "DPI: 1.82x",
          "x": 2010,
          "y": 1168213514,
          "yshift": 25
         },
         {
          "font": {
           "family": "Avenir",
           "size": 14
          },
          "showarrow": false,
          "text": "DPI: 1.62x",
          "x": 2011,
          "y": 3745377061,
          "yshift": 25
         },
         {
          "font": {
           "family": "Avenir",
           "size": 14
          },
          "showarrow": false,
          "text": "DPI: 1.53x",
          "x": 2012,
          "y": 3296101468,
          "yshift": 25
         },
         {
          "font": {
           "family": "Avenir",
           "size": 14
          },
          "showarrow": false,
          "text": "DPI: 1.66x",
          "x": 2013,
          "y": 1902148017,
          "yshift": 25
         },
         {
          "font": {
           "family": "Avenir",
           "size": 14
          },
          "showarrow": false,
          "text": "DPI: 1.35x",
          "x": 2014,
          "y": 5491497452,
          "yshift": 25
         },
         {
          "font": {
           "family": "Avenir",
           "size": 14
          },
          "showarrow": false,
          "text": "DPI: 1.14x",
          "x": 2015,
          "y": 5501218869,
          "yshift": 25
         },
         {
          "font": {
           "family": "Avenir",
           "size": 14
          },
          "showarrow": false,
          "text": "DPI: 1.01x",
          "x": 2016,
          "y": 5867686583,
          "yshift": 25
         },
         {
          "font": {
           "family": "Avenir",
           "size": 14
          },
          "showarrow": false,
          "text": "DPI: 0.69x",
          "x": 2017,
          "y": 7958873029,
          "yshift": 25
         },
         {
          "font": {
           "family": "Avenir",
           "size": 14
          },
          "showarrow": false,
          "text": "DPI: 0.56x",
          "x": 2018,
          "y": 9817531350,
          "yshift": 25
         },
         {
          "font": {
           "family": "Avenir",
           "size": 14
          },
          "showarrow": false,
          "text": "DPI: 0.46x",
          "x": 2019,
          "y": 8331961875,
          "yshift": 25
         },
         {
          "font": {
           "family": "Avenir",
           "size": 14
          },
          "showarrow": false,
          "text": "DPI: 0.18x",
          "x": 2020,
          "y": 6263319930,
          "yshift": 25
         },
         {
          "font": {
           "family": "Avenir",
           "size": 14
          },
          "showarrow": false,
          "text": "DPI: 0.09x",
          "x": 2021,
          "y": 8608783026,
          "yshift": 25
         },
         {
          "font": {
           "family": "Avenir",
           "size": 14
          },
          "showarrow": false,
          "text": "DPI: 0.02x",
          "x": 2022,
          "y": 2028313913,
          "yshift": 25
         },
         {
          "font": {
           "family": "Avenir",
           "size": 14
          },
          "showarrow": false,
          "text": "DPI: 0.03x",
          "x": 2023,
          "y": 572157059,
          "yshift": 25
         },
         {
          "font": {
           "family": "Avenir",
           "size": 14
          },
          "showarrow": false,
          "text": "DPI: 0.00x",
          "x": 2024,
          "y": 227548720,
          "yshift": 25
         }
        ],
        "barmode": "relative",
        "height": 800,
        "legend": {
         "font": {
          "family": "Avenir",
          "size": 14
         },
         "orientation": "h",
         "x": 0.5,
         "xanchor": "center",
         "y": -0.15,
         "yanchor": "bottom"
        },
        "margin": {
         "b": 50,
         "l": 50,
         "r": 50,
         "t": 100
        },
        "plot_bgcolor": "white",
        "showlegend": true,
        "template": {
         "data": {
          "bar": [
           {
            "error_x": {
             "color": "#2a3f5f"
            },
            "error_y": {
             "color": "#2a3f5f"
            },
            "marker": {
             "line": {
              "color": "#E5ECF6",
              "width": 0.5
             },
             "pattern": {
              "fillmode": "overlay",
              "size": 10,
              "solidity": 0.2
             }
            },
            "type": "bar"
           }
          ],
          "barpolar": [
           {
            "marker": {
             "line": {
              "color": "#E5ECF6",
              "width": 0.5
             },
             "pattern": {
              "fillmode": "overlay",
              "size": 10,
              "solidity": 0.2
             }
            },
            "type": "barpolar"
           }
          ],
          "carpet": [
           {
            "aaxis": {
             "endlinecolor": "#2a3f5f",
             "gridcolor": "white",
             "linecolor": "white",
             "minorgridcolor": "white",
             "startlinecolor": "#2a3f5f"
            },
            "baxis": {
             "endlinecolor": "#2a3f5f",
             "gridcolor": "white",
             "linecolor": "white",
             "minorgridcolor": "white",
             "startlinecolor": "#2a3f5f"
            },
            "type": "carpet"
           }
          ],
          "choropleth": [
           {
            "colorbar": {
             "outlinewidth": 0,
             "ticks": ""
            },
            "type": "choropleth"
           }
          ],
          "contour": [
           {
            "colorbar": {
             "outlinewidth": 0,
             "ticks": ""
            },
            "colorscale": [
             [
              0,
              "#0d0887"
             ],
             [
              0.1111111111111111,
              "#46039f"
             ],
             [
              0.2222222222222222,
              "#7201a8"
             ],
             [
              0.3333333333333333,
              "#9c179e"
             ],
             [
              0.4444444444444444,
              "#bd3786"
             ],
             [
              0.5555555555555556,
              "#d8576b"
             ],
             [
              0.6666666666666666,
              "#ed7953"
             ],
             [
              0.7777777777777778,
              "#fb9f3a"
             ],
             [
              0.8888888888888888,
              "#fdca26"
             ],
             [
              1,
              "#f0f921"
             ]
            ],
            "type": "contour"
           }
          ],
          "contourcarpet": [
           {
            "colorbar": {
             "outlinewidth": 0,
             "ticks": ""
            },
            "type": "contourcarpet"
           }
          ],
          "heatmap": [
           {
            "colorbar": {
             "outlinewidth": 0,
             "ticks": ""
            },
            "colorscale": [
             [
              0,
              "#0d0887"
             ],
             [
              0.1111111111111111,
              "#46039f"
             ],
             [
              0.2222222222222222,
              "#7201a8"
             ],
             [
              0.3333333333333333,
              "#9c179e"
             ],
             [
              0.4444444444444444,
              "#bd3786"
             ],
             [
              0.5555555555555556,
              "#d8576b"
             ],
             [
              0.6666666666666666,
              "#ed7953"
             ],
             [
              0.7777777777777778,
              "#fb9f3a"
             ],
             [
              0.8888888888888888,
              "#fdca26"
             ],
             [
              1,
              "#f0f921"
             ]
            ],
            "type": "heatmap"
           }
          ],
          "heatmapgl": [
           {
            "colorbar": {
             "outlinewidth": 0,
             "ticks": ""
            },
            "colorscale": [
             [
              0,
              "#0d0887"
             ],
             [
              0.1111111111111111,
              "#46039f"
             ],
             [
              0.2222222222222222,
              "#7201a8"
             ],
             [
              0.3333333333333333,
              "#9c179e"
             ],
             [
              0.4444444444444444,
              "#bd3786"
             ],
             [
              0.5555555555555556,
              "#d8576b"
             ],
             [
              0.6666666666666666,
              "#ed7953"
             ],
             [
              0.7777777777777778,
              "#fb9f3a"
             ],
             [
              0.8888888888888888,
              "#fdca26"
             ],
             [
              1,
              "#f0f921"
             ]
            ],
            "type": "heatmapgl"
           }
          ],
          "histogram": [
           {
            "marker": {
             "pattern": {
              "fillmode": "overlay",
              "size": 10,
              "solidity": 0.2
             }
            },
            "type": "histogram"
           }
          ],
          "histogram2d": [
           {
            "colorbar": {
             "outlinewidth": 0,
             "ticks": ""
            },
            "colorscale": [
             [
              0,
              "#0d0887"
             ],
             [
              0.1111111111111111,
              "#46039f"
             ],
             [
              0.2222222222222222,
              "#7201a8"
             ],
             [
              0.3333333333333333,
              "#9c179e"
             ],
             [
              0.4444444444444444,
              "#bd3786"
             ],
             [
              0.5555555555555556,
              "#d8576b"
             ],
             [
              0.6666666666666666,
              "#ed7953"
             ],
             [
              0.7777777777777778,
              "#fb9f3a"
             ],
             [
              0.8888888888888888,
              "#fdca26"
             ],
             [
              1,
              "#f0f921"
             ]
            ],
            "type": "histogram2d"
           }
          ],
          "histogram2dcontour": [
           {
            "colorbar": {
             "outlinewidth": 0,
             "ticks": ""
            },
            "colorscale": [
             [
              0,
              "#0d0887"
             ],
             [
              0.1111111111111111,
              "#46039f"
             ],
             [
              0.2222222222222222,
              "#7201a8"
             ],
             [
              0.3333333333333333,
              "#9c179e"
             ],
             [
              0.4444444444444444,
              "#bd3786"
             ],
             [
              0.5555555555555556,
              "#d8576b"
             ],
             [
              0.6666666666666666,
              "#ed7953"
             ],
             [
              0.7777777777777778,
              "#fb9f3a"
             ],
             [
              0.8888888888888888,
              "#fdca26"
             ],
             [
              1,
              "#f0f921"
             ]
            ],
            "type": "histogram2dcontour"
           }
          ],
          "mesh3d": [
           {
            "colorbar": {
             "outlinewidth": 0,
             "ticks": ""
            },
            "type": "mesh3d"
           }
          ],
          "parcoords": [
           {
            "line": {
             "colorbar": {
              "outlinewidth": 0,
              "ticks": ""
             }
            },
            "type": "parcoords"
           }
          ],
          "pie": [
           {
            "automargin": true,
            "type": "pie"
           }
          ],
          "scatter": [
           {
            "fillpattern": {
             "fillmode": "overlay",
             "size": 10,
             "solidity": 0.2
            },
            "type": "scatter"
           }
          ],
          "scatter3d": [
           {
            "line": {
             "colorbar": {
              "outlinewidth": 0,
              "ticks": ""
             }
            },
            "marker": {
             "colorbar": {
              "outlinewidth": 0,
              "ticks": ""
             }
            },
            "type": "scatter3d"
           }
          ],
          "scattercarpet": [
           {
            "marker": {
             "colorbar": {
              "outlinewidth": 0,
              "ticks": ""
             }
            },
            "type": "scattercarpet"
           }
          ],
          "scattergeo": [
           {
            "marker": {
             "colorbar": {
              "outlinewidth": 0,
              "ticks": ""
             }
            },
            "type": "scattergeo"
           }
          ],
          "scattergl": [
           {
            "marker": {
             "colorbar": {
              "outlinewidth": 0,
              "ticks": ""
             }
            },
            "type": "scattergl"
           }
          ],
          "scattermapbox": [
           {
            "marker": {
             "colorbar": {
              "outlinewidth": 0,
              "ticks": ""
             }
            },
            "type": "scattermapbox"
           }
          ],
          "scatterpolar": [
           {
            "marker": {
             "colorbar": {
              "outlinewidth": 0,
              "ticks": ""
             }
            },
            "type": "scatterpolar"
           }
          ],
          "scatterpolargl": [
           {
            "marker": {
             "colorbar": {
              "outlinewidth": 0,
              "ticks": ""
             }
            },
            "type": "scatterpolargl"
           }
          ],
          "scatterternary": [
           {
            "marker": {
             "colorbar": {
              "outlinewidth": 0,
              "ticks": ""
             }
            },
            "type": "scatterternary"
           }
          ],
          "surface": [
           {
            "colorbar": {
             "outlinewidth": 0,
             "ticks": ""
            },
            "colorscale": [
             [
              0,
              "#0d0887"
             ],
             [
              0.1111111111111111,
              "#46039f"
             ],
             [
              0.2222222222222222,
              "#7201a8"
             ],
             [
              0.3333333333333333,
              "#9c179e"
             ],
             [
              0.4444444444444444,
              "#bd3786"
             ],
             [
              0.5555555555555556,
              "#d8576b"
             ],
             [
              0.6666666666666666,
              "#ed7953"
             ],
             [
              0.7777777777777778,
              "#fb9f3a"
             ],
             [
              0.8888888888888888,
              "#fdca26"
             ],
             [
              1,
              "#f0f921"
             ]
            ],
            "type": "surface"
           }
          ],
          "table": [
           {
            "cells": {
             "fill": {
              "color": "#EBF0F8"
             },
             "line": {
              "color": "white"
             }
            },
            "header": {
             "fill": {
              "color": "#C8D4E3"
             },
             "line": {
              "color": "white"
             }
            },
            "type": "table"
           }
          ]
         },
         "layout": {
          "annotationdefaults": {
           "arrowcolor": "#2a3f5f",
           "arrowhead": 0,
           "arrowwidth": 1
          },
          "autotypenumbers": "strict",
          "coloraxis": {
           "colorbar": {
            "outlinewidth": 0,
            "ticks": ""
           }
          },
          "colorscale": {
           "diverging": [
            [
             0,
             "#8e0152"
            ],
            [
             0.1,
             "#c51b7d"
            ],
            [
             0.2,
             "#de77ae"
            ],
            [
             0.3,
             "#f1b6da"
            ],
            [
             0.4,
             "#fde0ef"
            ],
            [
             0.5,
             "#f7f7f7"
            ],
            [
             0.6,
             "#e6f5d0"
            ],
            [
             0.7,
             "#b8e186"
            ],
            [
             0.8,
             "#7fbc41"
            ],
            [
             0.9,
             "#4d9221"
            ],
            [
             1,
             "#276419"
            ]
           ],
           "sequential": [
            [
             0,
             "#0d0887"
            ],
            [
             0.1111111111111111,
             "#46039f"
            ],
            [
             0.2222222222222222,
             "#7201a8"
            ],
            [
             0.3333333333333333,
             "#9c179e"
            ],
            [
             0.4444444444444444,
             "#bd3786"
            ],
            [
             0.5555555555555556,
             "#d8576b"
            ],
            [
             0.6666666666666666,
             "#ed7953"
            ],
            [
             0.7777777777777778,
             "#fb9f3a"
            ],
            [
             0.8888888888888888,
             "#fdca26"
            ],
            [
             1,
             "#f0f921"
            ]
           ],
           "sequentialminus": [
            [
             0,
             "#0d0887"
            ],
            [
             0.1111111111111111,
             "#46039f"
            ],
            [
             0.2222222222222222,
             "#7201a8"
            ],
            [
             0.3333333333333333,
             "#9c179e"
            ],
            [
             0.4444444444444444,
             "#bd3786"
            ],
            [
             0.5555555555555556,
             "#d8576b"
            ],
            [
             0.6666666666666666,
             "#ed7953"
            ],
            [
             0.7777777777777778,
             "#fb9f3a"
            ],
            [
             0.8888888888888888,
             "#fdca26"
            ],
            [
             1,
             "#f0f921"
            ]
           ]
          },
          "colorway": [
           "#636efa",
           "#EF553B",
           "#00cc96",
           "#ab63fa",
           "#FFA15A",
           "#19d3f3",
           "#FF6692",
           "#B6E880",
           "#FF97FF",
           "#FECB52"
          ],
          "font": {
           "color": "#2a3f5f"
          },
          "geo": {
           "bgcolor": "white",
           "lakecolor": "white",
           "landcolor": "#E5ECF6",
           "showlakes": true,
           "showland": true,
           "subunitcolor": "white"
          },
          "hoverlabel": {
           "align": "left"
          },
          "hovermode": "closest",
          "mapbox": {
           "style": "light"
          },
          "paper_bgcolor": "white",
          "plot_bgcolor": "#E5ECF6",
          "polar": {
           "angularaxis": {
            "gridcolor": "white",
            "linecolor": "white",
            "ticks": ""
           },
           "bgcolor": "#E5ECF6",
           "radialaxis": {
            "gridcolor": "white",
            "linecolor": "white",
            "ticks": ""
           }
          },
          "scene": {
           "xaxis": {
            "backgroundcolor": "#E5ECF6",
            "gridcolor": "white",
            "gridwidth": 2,
            "linecolor": "white",
            "showbackground": true,
            "ticks": "",
            "zerolinecolor": "white"
           },
           "yaxis": {
            "backgroundcolor": "#E5ECF6",
            "gridcolor": "white",
            "gridwidth": 2,
            "linecolor": "white",
            "showbackground": true,
            "ticks": "",
            "zerolinecolor": "white"
           },
           "zaxis": {
            "backgroundcolor": "#E5ECF6",
            "gridcolor": "white",
            "gridwidth": 2,
            "linecolor": "white",
            "showbackground": true,
            "ticks": "",
            "zerolinecolor": "white"
           }
          },
          "shapedefaults": {
           "line": {
            "color": "#2a3f5f"
           }
          },
          "ternary": {
           "aaxis": {
            "gridcolor": "white",
            "linecolor": "white",
            "ticks": ""
           },
           "baxis": {
            "gridcolor": "white",
            "linecolor": "white",
            "ticks": ""
           },
           "bgcolor": "#E5ECF6",
           "caxis": {
            "gridcolor": "white",
            "linecolor": "white",
            "ticks": ""
           }
          },
          "title": {
           "x": 0.05
          },
          "xaxis": {
           "automargin": true,
           "gridcolor": "white",
           "linecolor": "white",
           "ticks": "",
           "title": {
            "standoff": 15
           },
           "zerolinecolor": "white",
           "zerolinewidth": 2
          },
          "yaxis": {
           "automargin": true,
           "gridcolor": "white",
           "linecolor": "white",
           "ticks": "",
           "title": {
            "standoff": 15
           },
           "zerolinecolor": "white",
           "zerolinewidth": 2
          }
         }
        },
        "title": {
         "font": {
          "family": "Avenir",
          "size": 25
         },
         "text": "<b>Capital Flows by Vintage Year</b>",
         "x": 0.5,
         "xanchor": "center",
         "y": 0.95,
         "yanchor": "top"
        },
        "xaxis": {
         "dtick": 1,
         "gridcolor": "lightgrey"
        },
        "yaxis": {
         "gridcolor": "lightgrey",
         "tickmode": "array"
        }
       }
      }
     },
     "metadata": {},
     "output_type": "display_data"
    }
   ],
   "source": [
    "figures[\"capital_flows\"].show()"
   ]
  },
  {
   "cell_type": "code",
   "execution_count": 153,
   "metadata": {},
   "outputs": [
    {
     "data": {
      "application/vnd.plotly.v1+json": {
       "config": {
        "plotlyServerURL": "https://plot.ly"
       },
       "data": [
        {
         "hovertemplate": "Year: %{x}<br>Weighted IRR: %{y:.1f}%<br><extra></extra>",
         "marker": {
          "color": "rgb(30,144,255)"
         },
         "name": "Weighted IRR",
         "text": [
          "30.6%",
          "2.0%",
          "13.1%",
          "32.1%",
          "3.6%",
          "14.1%",
          "17.8%",
          "7.8%",
          "5.3%",
          "8.0%",
          "7.3%",
          "12.3%",
          "12.1%",
          "10.8%",
          "13.1%",
          "15.9%",
          "12.5%",
          "13.8%",
          "16.6%",
          "16.4%",
          "17.7%",
          "17.7%",
          "13.5%",
          "10.9%",
          "9.6%",
          "4.3%",
          "3.5%"
         ],
         "textposition": "outside",
         "type": "bar",
         "x": [
          1998,
          1999,
          2000,
          2001,
          2002,
          2003,
          2004,
          2005,
          2006,
          2007,
          2008,
          2009,
          2010,
          2011,
          2012,
          2013,
          2014,
          2015,
          2016,
          2017,
          2018,
          2019,
          2020,
          2021,
          2022,
          2023,
          2024
         ],
         "y": [
          30.6,
          1.9701676473469398,
          13.134034974891478,
          32.120800426627106,
          3.56,
          14.063221796157462,
          17.794724522628005,
          7.838829295238275,
          5.284968987539321,
          8.024586000712462,
          7.311521924363552,
          12.26650615422839,
          12.087593201364543,
          10.828386528504975,
          13.134651893541228,
          15.942420854448907,
          12.488581318967952,
          13.806753830784945,
          16.553285782078632,
          16.444451612902135,
          17.706657841369214,
          17.710336928815607,
          13.544519352325825,
          10.892518351305759,
          9.622959614910245,
          4.296834709112998,
          3.535859226626653
         ]
        }
       ],
       "layout": {
        "height": 800,
        "legend": {
         "font": {
          "family": "Avenir",
          "size": 14
         },
         "orientation": "h",
         "x": 0.5,
         "xanchor": "center",
         "y": -0.15,
         "yanchor": "bottom"
        },
        "margin": {
         "b": 50,
         "l": 50,
         "r": 50,
         "t": 100
        },
        "plot_bgcolor": "white",
        "shapes": [
         {
          "line": {
           "color": "gray",
           "dash": "dash",
           "width": 1
          },
          "type": "line",
          "x0": 0,
          "x1": 1,
          "xref": "x domain",
          "y0": 0,
          "y1": 0,
          "yref": "y"
         }
        ],
        "showlegend": true,
        "template": {
         "data": {
          "bar": [
           {
            "error_x": {
             "color": "#2a3f5f"
            },
            "error_y": {
             "color": "#2a3f5f"
            },
            "marker": {
             "line": {
              "color": "#E5ECF6",
              "width": 0.5
             },
             "pattern": {
              "fillmode": "overlay",
              "size": 10,
              "solidity": 0.2
             }
            },
            "type": "bar"
           }
          ],
          "barpolar": [
           {
            "marker": {
             "line": {
              "color": "#E5ECF6",
              "width": 0.5
             },
             "pattern": {
              "fillmode": "overlay",
              "size": 10,
              "solidity": 0.2
             }
            },
            "type": "barpolar"
           }
          ],
          "carpet": [
           {
            "aaxis": {
             "endlinecolor": "#2a3f5f",
             "gridcolor": "white",
             "linecolor": "white",
             "minorgridcolor": "white",
             "startlinecolor": "#2a3f5f"
            },
            "baxis": {
             "endlinecolor": "#2a3f5f",
             "gridcolor": "white",
             "linecolor": "white",
             "minorgridcolor": "white",
             "startlinecolor": "#2a3f5f"
            },
            "type": "carpet"
           }
          ],
          "choropleth": [
           {
            "colorbar": {
             "outlinewidth": 0,
             "ticks": ""
            },
            "type": "choropleth"
           }
          ],
          "contour": [
           {
            "colorbar": {
             "outlinewidth": 0,
             "ticks": ""
            },
            "colorscale": [
             [
              0,
              "#0d0887"
             ],
             [
              0.1111111111111111,
              "#46039f"
             ],
             [
              0.2222222222222222,
              "#7201a8"
             ],
             [
              0.3333333333333333,
              "#9c179e"
             ],
             [
              0.4444444444444444,
              "#bd3786"
             ],
             [
              0.5555555555555556,
              "#d8576b"
             ],
             [
              0.6666666666666666,
              "#ed7953"
             ],
             [
              0.7777777777777778,
              "#fb9f3a"
             ],
             [
              0.8888888888888888,
              "#fdca26"
             ],
             [
              1,
              "#f0f921"
             ]
            ],
            "type": "contour"
           }
          ],
          "contourcarpet": [
           {
            "colorbar": {
             "outlinewidth": 0,
             "ticks": ""
            },
            "type": "contourcarpet"
           }
          ],
          "heatmap": [
           {
            "colorbar": {
             "outlinewidth": 0,
             "ticks": ""
            },
            "colorscale": [
             [
              0,
              "#0d0887"
             ],
             [
              0.1111111111111111,
              "#46039f"
             ],
             [
              0.2222222222222222,
              "#7201a8"
             ],
             [
              0.3333333333333333,
              "#9c179e"
             ],
             [
              0.4444444444444444,
              "#bd3786"
             ],
             [
              0.5555555555555556,
              "#d8576b"
             ],
             [
              0.6666666666666666,
              "#ed7953"
             ],
             [
              0.7777777777777778,
              "#fb9f3a"
             ],
             [
              0.8888888888888888,
              "#fdca26"
             ],
             [
              1,
              "#f0f921"
             ]
            ],
            "type": "heatmap"
           }
          ],
          "heatmapgl": [
           {
            "colorbar": {
             "outlinewidth": 0,
             "ticks": ""
            },
            "colorscale": [
             [
              0,
              "#0d0887"
             ],
             [
              0.1111111111111111,
              "#46039f"
             ],
             [
              0.2222222222222222,
              "#7201a8"
             ],
             [
              0.3333333333333333,
              "#9c179e"
             ],
             [
              0.4444444444444444,
              "#bd3786"
             ],
             [
              0.5555555555555556,
              "#d8576b"
             ],
             [
              0.6666666666666666,
              "#ed7953"
             ],
             [
              0.7777777777777778,
              "#fb9f3a"
             ],
             [
              0.8888888888888888,
              "#fdca26"
             ],
             [
              1,
              "#f0f921"
             ]
            ],
            "type": "heatmapgl"
           }
          ],
          "histogram": [
           {
            "marker": {
             "pattern": {
              "fillmode": "overlay",
              "size": 10,
              "solidity": 0.2
             }
            },
            "type": "histogram"
           }
          ],
          "histogram2d": [
           {
            "colorbar": {
             "outlinewidth": 0,
             "ticks": ""
            },
            "colorscale": [
             [
              0,
              "#0d0887"
             ],
             [
              0.1111111111111111,
              "#46039f"
             ],
             [
              0.2222222222222222,
              "#7201a8"
             ],
             [
              0.3333333333333333,
              "#9c179e"
             ],
             [
              0.4444444444444444,
              "#bd3786"
             ],
             [
              0.5555555555555556,
              "#d8576b"
             ],
             [
              0.6666666666666666,
              "#ed7953"
             ],
             [
              0.7777777777777778,
              "#fb9f3a"
             ],
             [
              0.8888888888888888,
              "#fdca26"
             ],
             [
              1,
              "#f0f921"
             ]
            ],
            "type": "histogram2d"
           }
          ],
          "histogram2dcontour": [
           {
            "colorbar": {
             "outlinewidth": 0,
             "ticks": ""
            },
            "colorscale": [
             [
              0,
              "#0d0887"
             ],
             [
              0.1111111111111111,
              "#46039f"
             ],
             [
              0.2222222222222222,
              "#7201a8"
             ],
             [
              0.3333333333333333,
              "#9c179e"
             ],
             [
              0.4444444444444444,
              "#bd3786"
             ],
             [
              0.5555555555555556,
              "#d8576b"
             ],
             [
              0.6666666666666666,
              "#ed7953"
             ],
             [
              0.7777777777777778,
              "#fb9f3a"
             ],
             [
              0.8888888888888888,
              "#fdca26"
             ],
             [
              1,
              "#f0f921"
             ]
            ],
            "type": "histogram2dcontour"
           }
          ],
          "mesh3d": [
           {
            "colorbar": {
             "outlinewidth": 0,
             "ticks": ""
            },
            "type": "mesh3d"
           }
          ],
          "parcoords": [
           {
            "line": {
             "colorbar": {
              "outlinewidth": 0,
              "ticks": ""
             }
            },
            "type": "parcoords"
           }
          ],
          "pie": [
           {
            "automargin": true,
            "type": "pie"
           }
          ],
          "scatter": [
           {
            "fillpattern": {
             "fillmode": "overlay",
             "size": 10,
             "solidity": 0.2
            },
            "type": "scatter"
           }
          ],
          "scatter3d": [
           {
            "line": {
             "colorbar": {
              "outlinewidth": 0,
              "ticks": ""
             }
            },
            "marker": {
             "colorbar": {
              "outlinewidth": 0,
              "ticks": ""
             }
            },
            "type": "scatter3d"
           }
          ],
          "scattercarpet": [
           {
            "marker": {
             "colorbar": {
              "outlinewidth": 0,
              "ticks": ""
             }
            },
            "type": "scattercarpet"
           }
          ],
          "scattergeo": [
           {
            "marker": {
             "colorbar": {
              "outlinewidth": 0,
              "ticks": ""
             }
            },
            "type": "scattergeo"
           }
          ],
          "scattergl": [
           {
            "marker": {
             "colorbar": {
              "outlinewidth": 0,
              "ticks": ""
             }
            },
            "type": "scattergl"
           }
          ],
          "scattermapbox": [
           {
            "marker": {
             "colorbar": {
              "outlinewidth": 0,
              "ticks": ""
             }
            },
            "type": "scattermapbox"
           }
          ],
          "scatterpolar": [
           {
            "marker": {
             "colorbar": {
              "outlinewidth": 0,
              "ticks": ""
             }
            },
            "type": "scatterpolar"
           }
          ],
          "scatterpolargl": [
           {
            "marker": {
             "colorbar": {
              "outlinewidth": 0,
              "ticks": ""
             }
            },
            "type": "scatterpolargl"
           }
          ],
          "scatterternary": [
           {
            "marker": {
             "colorbar": {
              "outlinewidth": 0,
              "ticks": ""
             }
            },
            "type": "scatterternary"
           }
          ],
          "surface": [
           {
            "colorbar": {
             "outlinewidth": 0,
             "ticks": ""
            },
            "colorscale": [
             [
              0,
              "#0d0887"
             ],
             [
              0.1111111111111111,
              "#46039f"
             ],
             [
              0.2222222222222222,
              "#7201a8"
             ],
             [
              0.3333333333333333,
              "#9c179e"
             ],
             [
              0.4444444444444444,
              "#bd3786"
             ],
             [
              0.5555555555555556,
              "#d8576b"
             ],
             [
              0.6666666666666666,
              "#ed7953"
             ],
             [
              0.7777777777777778,
              "#fb9f3a"
             ],
             [
              0.8888888888888888,
              "#fdca26"
             ],
             [
              1,
              "#f0f921"
             ]
            ],
            "type": "surface"
           }
          ],
          "table": [
           {
            "cells": {
             "fill": {
              "color": "#EBF0F8"
             },
             "line": {
              "color": "white"
             }
            },
            "header": {
             "fill": {
              "color": "#C8D4E3"
             },
             "line": {
              "color": "white"
             }
            },
            "type": "table"
           }
          ]
         },
         "layout": {
          "annotationdefaults": {
           "arrowcolor": "#2a3f5f",
           "arrowhead": 0,
           "arrowwidth": 1
          },
          "autotypenumbers": "strict",
          "coloraxis": {
           "colorbar": {
            "outlinewidth": 0,
            "ticks": ""
           }
          },
          "colorscale": {
           "diverging": [
            [
             0,
             "#8e0152"
            ],
            [
             0.1,
             "#c51b7d"
            ],
            [
             0.2,
             "#de77ae"
            ],
            [
             0.3,
             "#f1b6da"
            ],
            [
             0.4,
             "#fde0ef"
            ],
            [
             0.5,
             "#f7f7f7"
            ],
            [
             0.6,
             "#e6f5d0"
            ],
            [
             0.7,
             "#b8e186"
            ],
            [
             0.8,
             "#7fbc41"
            ],
            [
             0.9,
             "#4d9221"
            ],
            [
             1,
             "#276419"
            ]
           ],
           "sequential": [
            [
             0,
             "#0d0887"
            ],
            [
             0.1111111111111111,
             "#46039f"
            ],
            [
             0.2222222222222222,
             "#7201a8"
            ],
            [
             0.3333333333333333,
             "#9c179e"
            ],
            [
             0.4444444444444444,
             "#bd3786"
            ],
            [
             0.5555555555555556,
             "#d8576b"
            ],
            [
             0.6666666666666666,
             "#ed7953"
            ],
            [
             0.7777777777777778,
             "#fb9f3a"
            ],
            [
             0.8888888888888888,
             "#fdca26"
            ],
            [
             1,
             "#f0f921"
            ]
           ],
           "sequentialminus": [
            [
             0,
             "#0d0887"
            ],
            [
             0.1111111111111111,
             "#46039f"
            ],
            [
             0.2222222222222222,
             "#7201a8"
            ],
            [
             0.3333333333333333,
             "#9c179e"
            ],
            [
             0.4444444444444444,
             "#bd3786"
            ],
            [
             0.5555555555555556,
             "#d8576b"
            ],
            [
             0.6666666666666666,
             "#ed7953"
            ],
            [
             0.7777777777777778,
             "#fb9f3a"
            ],
            [
             0.8888888888888888,
             "#fdca26"
            ],
            [
             1,
             "#f0f921"
            ]
           ]
          },
          "colorway": [
           "#636efa",
           "#EF553B",
           "#00cc96",
           "#ab63fa",
           "#FFA15A",
           "#19d3f3",
           "#FF6692",
           "#B6E880",
           "#FF97FF",
           "#FECB52"
          ],
          "font": {
           "color": "#2a3f5f"
          },
          "geo": {
           "bgcolor": "white",
           "lakecolor": "white",
           "landcolor": "#E5ECF6",
           "showlakes": true,
           "showland": true,
           "subunitcolor": "white"
          },
          "hoverlabel": {
           "align": "left"
          },
          "hovermode": "closest",
          "mapbox": {
           "style": "light"
          },
          "paper_bgcolor": "white",
          "plot_bgcolor": "#E5ECF6",
          "polar": {
           "angularaxis": {
            "gridcolor": "white",
            "linecolor": "white",
            "ticks": ""
           },
           "bgcolor": "#E5ECF6",
           "radialaxis": {
            "gridcolor": "white",
            "linecolor": "white",
            "ticks": ""
           }
          },
          "scene": {
           "xaxis": {
            "backgroundcolor": "#E5ECF6",
            "gridcolor": "white",
            "gridwidth": 2,
            "linecolor": "white",
            "showbackground": true,
            "ticks": "",
            "zerolinecolor": "white"
           },
           "yaxis": {
            "backgroundcolor": "#E5ECF6",
            "gridcolor": "white",
            "gridwidth": 2,
            "linecolor": "white",
            "showbackground": true,
            "ticks": "",
            "zerolinecolor": "white"
           },
           "zaxis": {
            "backgroundcolor": "#E5ECF6",
            "gridcolor": "white",
            "gridwidth": 2,
            "linecolor": "white",
            "showbackground": true,
            "ticks": "",
            "zerolinecolor": "white"
           }
          },
          "shapedefaults": {
           "line": {
            "color": "#2a3f5f"
           }
          },
          "ternary": {
           "aaxis": {
            "gridcolor": "white",
            "linecolor": "white",
            "ticks": ""
           },
           "baxis": {
            "gridcolor": "white",
            "linecolor": "white",
            "ticks": ""
           },
           "bgcolor": "#E5ECF6",
           "caxis": {
            "gridcolor": "white",
            "linecolor": "white",
            "ticks": ""
           }
          },
          "title": {
           "x": 0.05
          },
          "xaxis": {
           "automargin": true,
           "gridcolor": "white",
           "linecolor": "white",
           "ticks": "",
           "title": {
            "standoff": 15
           },
           "zerolinecolor": "white",
           "zerolinewidth": 2
          },
          "yaxis": {
           "automargin": true,
           "gridcolor": "white",
           "linecolor": "white",
           "ticks": "",
           "title": {
            "standoff": 15
           },
           "zerolinecolor": "white",
           "zerolinewidth": 2
          }
         }
        },
        "title": {
         "font": {
          "family": "Avenir",
          "size": 25
         },
         "text": "<b>Weighted IRR by Vintage Year</b>",
         "x": 0.5,
         "xanchor": "center",
         "y": 0.95,
         "yanchor": "top"
        },
        "xaxis": {
         "dtick": 1,
         "gridcolor": "lightgrey"
        },
        "yaxis": {
         "gridcolor": "lightgrey",
         "tickformat": ".1f",
         "ticksuffix": "%",
         "title": {
          "text": "Weighted IRR (%)"
         },
         "zeroline": true
        }
       }
      }
     },
     "metadata": {},
     "output_type": "display_data"
    }
   ],
   "source": [
    "figures[\"vintage_irr\"].show()"
   ]
  },
  {
   "cell_type": "code",
   "execution_count": 154,
   "metadata": {},
   "outputs": [
    {
     "data": {
      "application/vnd.plotly.v1+json": {
       "config": {
        "plotlyServerURL": "https://plot.ly"
       },
       "data": [
        {
         "hovertemplate": "Year: %{x}<br>DPI: %{y:.2f}x<br><extra></extra>",
         "line": {
          "color": "rgb(30,144,255)",
          "width": 2
         },
         "marker": {
          "size": 8
         },
         "mode": "lines+markers+text",
         "name": "Venture Capital",
         "text": [
          "1.64x",
          "0.45x",
          "0.97x",
          "0.69x",
          "1.79x",
          "1.60x",
          "0.96x",
          "2.72x",
          "3.12x",
          "2.51x",
          "1.65x",
          "1.24x",
          "2.25x",
          "1.12x",
          "0.93x",
          "0.78x",
          "0.31x",
          "0.63x",
          "0.16x",
          "0.30x",
          "0.03x",
          "0.05x",
          "0.00x",
          "0.00x"
         ],
         "textposition": "top center",
         "type": "scatter",
         "x": [
          1998,
          1999,
          2000,
          2001,
          2004,
          2005,
          2006,
          2007,
          2008,
          2009,
          2011,
          2012,
          2013,
          2014,
          2015,
          2016,
          2017,
          2018,
          2019,
          2020,
          2021,
          2022,
          2023,
          2024
         ],
         "y": [
          1.63620214,
          0.44759418367346937,
          0.9679474776470588,
          0.69330668,
          1.7868004599084273,
          1.6033348667784169,
          0.9570370144512139,
          2.72121056,
          3.118454175419498,
          2.5118714769230768,
          1.6532303743911627,
          1.2432853259894108,
          2.2508278832053557,
          1.121824830807802,
          0.932618567452029,
          0.7760161309900971,
          0.30938286573019547,
          0.6309619620250188,
          0.16128260224764263,
          0.303622092105711,
          0.02791215076485634,
          0.049215670696730225,
          0,
          0
         ]
        },
        {
         "hovertemplate": "Year: %{x}<br>DPI: %{y:.2f}x<br><extra></extra>",
         "line": {
          "color": "rgb(60,179,113)",
          "width": 2
         },
         "marker": {
          "size": 8
         },
         "mode": "lines+markers+text",
         "name": "Growth Equity",
         "text": [
          "1.80x",
          "1.90x",
          "2.52x",
          "3.24x",
          "1.99x",
          "2.25x",
          "1.40x",
          "1.85x",
          "1.92x",
          "1.59x",
          "0.80x",
          "0.78x",
          "0.57x",
          "0.15x",
          "0.05x",
          "0.02x",
          "0.00x",
          "0.00x"
         ],
         "textposition": "top center",
         "type": "scatter",
         "x": [
          2007,
          2008,
          2009,
          2010,
          2011,
          2012,
          2013,
          2014,
          2015,
          2016,
          2017,
          2018,
          2019,
          2020,
          2021,
          2022,
          2023,
          2024
         ],
         "y": [
          1.80131702,
          1.9005709840143326,
          2.5185015905043735,
          3.2374614983176246,
          1.988064297258245,
          2.245206767624192,
          1.4001844201961933,
          1.8512298014237045,
          1.9170882256553163,
          1.593980586610396,
          0.7958705367421168,
          0.7845683079351727,
          0.5747298226216735,
          0.14712944058485994,
          0.05283683545948019,
          0.015036451366178268,
          0,
          0
         ]
        },
        {
         "hovertemplate": "Year: %{x}<br>DPI: %{y:.2f}x<br><extra></extra>",
         "line": {
          "color": "rgb(200,30,30)",
          "width": 2
         },
         "marker": {
          "size": 8
         },
         "mode": "lines+markers+text",
         "name": "Private Equity",
         "text": [
          "1.19x",
          "2.00x",
          "2.59x",
          "1.89x",
          "1.84x",
          "1.51x",
          "1.63x",
          "1.57x",
          "1.70x",
          "1.54x",
          "3.07x",
          "1.67x",
          "1.79x",
          "1.69x",
          "1.60x",
          "1.16x",
          "0.91x",
          "0.78x",
          "0.55x",
          "0.35x",
          "0.16x",
          "0.11x",
          "0.00x",
          "0.05x",
          "0.00x"
         ],
         "textposition": "top center",
         "type": "scatter",
         "x": [
          1999,
          2000,
          2001,
          2003,
          2004,
          2005,
          2006,
          2007,
          2008,
          2009,
          2010,
          2011,
          2012,
          2013,
          2014,
          2015,
          2016,
          2017,
          2018,
          2019,
          2020,
          2021,
          2022,
          2023,
          2024
         ],
         "y": [
          1.188317274113381,
          1.9969410368600164,
          2.589687416520132,
          1.8939281681576032,
          1.8402857661168026,
          1.5122600472291217,
          1.6318312853948116,
          1.5681977230298298,
          1.7037385865517807,
          1.535803887982319,
          3.0719447528831054,
          1.6705207741479031,
          1.7857178152290585,
          1.694672289145007,
          1.6020301850009302,
          1.1603793236139068,
          0.9069274554272512,
          0.7783781255568594,
          0.5480352515639842,
          0.3535883238434568,
          0.15805239675119256,
          0.10695681050519334,
          0.0020766777467544346,
          0.04815653710576043,
          0.0033606320197262438
         ]
        }
       ],
       "layout": {
        "height": 800,
        "legend": {
         "font": {
          "family": "Avenir",
          "size": 14
         },
         "orientation": "h",
         "x": 0.5,
         "xanchor": "center",
         "y": -0.15,
         "yanchor": "bottom"
        },
        "margin": {
         "b": 50,
         "l": 50,
         "r": 50,
         "t": 100
        },
        "plot_bgcolor": "white",
        "showlegend": true,
        "template": {
         "data": {
          "bar": [
           {
            "error_x": {
             "color": "#2a3f5f"
            },
            "error_y": {
             "color": "#2a3f5f"
            },
            "marker": {
             "line": {
              "color": "#E5ECF6",
              "width": 0.5
             },
             "pattern": {
              "fillmode": "overlay",
              "size": 10,
              "solidity": 0.2
             }
            },
            "type": "bar"
           }
          ],
          "barpolar": [
           {
            "marker": {
             "line": {
              "color": "#E5ECF6",
              "width": 0.5
             },
             "pattern": {
              "fillmode": "overlay",
              "size": 10,
              "solidity": 0.2
             }
            },
            "type": "barpolar"
           }
          ],
          "carpet": [
           {
            "aaxis": {
             "endlinecolor": "#2a3f5f",
             "gridcolor": "white",
             "linecolor": "white",
             "minorgridcolor": "white",
             "startlinecolor": "#2a3f5f"
            },
            "baxis": {
             "endlinecolor": "#2a3f5f",
             "gridcolor": "white",
             "linecolor": "white",
             "minorgridcolor": "white",
             "startlinecolor": "#2a3f5f"
            },
            "type": "carpet"
           }
          ],
          "choropleth": [
           {
            "colorbar": {
             "outlinewidth": 0,
             "ticks": ""
            },
            "type": "choropleth"
           }
          ],
          "contour": [
           {
            "colorbar": {
             "outlinewidth": 0,
             "ticks": ""
            },
            "colorscale": [
             [
              0,
              "#0d0887"
             ],
             [
              0.1111111111111111,
              "#46039f"
             ],
             [
              0.2222222222222222,
              "#7201a8"
             ],
             [
              0.3333333333333333,
              "#9c179e"
             ],
             [
              0.4444444444444444,
              "#bd3786"
             ],
             [
              0.5555555555555556,
              "#d8576b"
             ],
             [
              0.6666666666666666,
              "#ed7953"
             ],
             [
              0.7777777777777778,
              "#fb9f3a"
             ],
             [
              0.8888888888888888,
              "#fdca26"
             ],
             [
              1,
              "#f0f921"
             ]
            ],
            "type": "contour"
           }
          ],
          "contourcarpet": [
           {
            "colorbar": {
             "outlinewidth": 0,
             "ticks": ""
            },
            "type": "contourcarpet"
           }
          ],
          "heatmap": [
           {
            "colorbar": {
             "outlinewidth": 0,
             "ticks": ""
            },
            "colorscale": [
             [
              0,
              "#0d0887"
             ],
             [
              0.1111111111111111,
              "#46039f"
             ],
             [
              0.2222222222222222,
              "#7201a8"
             ],
             [
              0.3333333333333333,
              "#9c179e"
             ],
             [
              0.4444444444444444,
              "#bd3786"
             ],
             [
              0.5555555555555556,
              "#d8576b"
             ],
             [
              0.6666666666666666,
              "#ed7953"
             ],
             [
              0.7777777777777778,
              "#fb9f3a"
             ],
             [
              0.8888888888888888,
              "#fdca26"
             ],
             [
              1,
              "#f0f921"
             ]
            ],
            "type": "heatmap"
           }
          ],
          "heatmapgl": [
           {
            "colorbar": {
             "outlinewidth": 0,
             "ticks": ""
            },
            "colorscale": [
             [
              0,
              "#0d0887"
             ],
             [
              0.1111111111111111,
              "#46039f"
             ],
             [
              0.2222222222222222,
              "#7201a8"
             ],
             [
              0.3333333333333333,
              "#9c179e"
             ],
             [
              0.4444444444444444,
              "#bd3786"
             ],
             [
              0.5555555555555556,
              "#d8576b"
             ],
             [
              0.6666666666666666,
              "#ed7953"
             ],
             [
              0.7777777777777778,
              "#fb9f3a"
             ],
             [
              0.8888888888888888,
              "#fdca26"
             ],
             [
              1,
              "#f0f921"
             ]
            ],
            "type": "heatmapgl"
           }
          ],
          "histogram": [
           {
            "marker": {
             "pattern": {
              "fillmode": "overlay",
              "size": 10,
              "solidity": 0.2
             }
            },
            "type": "histogram"
           }
          ],
          "histogram2d": [
           {
            "colorbar": {
             "outlinewidth": 0,
             "ticks": ""
            },
            "colorscale": [
             [
              0,
              "#0d0887"
             ],
             [
              0.1111111111111111,
              "#46039f"
             ],
             [
              0.2222222222222222,
              "#7201a8"
             ],
             [
              0.3333333333333333,
              "#9c179e"
             ],
             [
              0.4444444444444444,
              "#bd3786"
             ],
             [
              0.5555555555555556,
              "#d8576b"
             ],
             [
              0.6666666666666666,
              "#ed7953"
             ],
             [
              0.7777777777777778,
              "#fb9f3a"
             ],
             [
              0.8888888888888888,
              "#fdca26"
             ],
             [
              1,
              "#f0f921"
             ]
            ],
            "type": "histogram2d"
           }
          ],
          "histogram2dcontour": [
           {
            "colorbar": {
             "outlinewidth": 0,
             "ticks": ""
            },
            "colorscale": [
             [
              0,
              "#0d0887"
             ],
             [
              0.1111111111111111,
              "#46039f"
             ],
             [
              0.2222222222222222,
              "#7201a8"
             ],
             [
              0.3333333333333333,
              "#9c179e"
             ],
             [
              0.4444444444444444,
              "#bd3786"
             ],
             [
              0.5555555555555556,
              "#d8576b"
             ],
             [
              0.6666666666666666,
              "#ed7953"
             ],
             [
              0.7777777777777778,
              "#fb9f3a"
             ],
             [
              0.8888888888888888,
              "#fdca26"
             ],
             [
              1,
              "#f0f921"
             ]
            ],
            "type": "histogram2dcontour"
           }
          ],
          "mesh3d": [
           {
            "colorbar": {
             "outlinewidth": 0,
             "ticks": ""
            },
            "type": "mesh3d"
           }
          ],
          "parcoords": [
           {
            "line": {
             "colorbar": {
              "outlinewidth": 0,
              "ticks": ""
             }
            },
            "type": "parcoords"
           }
          ],
          "pie": [
           {
            "automargin": true,
            "type": "pie"
           }
          ],
          "scatter": [
           {
            "fillpattern": {
             "fillmode": "overlay",
             "size": 10,
             "solidity": 0.2
            },
            "type": "scatter"
           }
          ],
          "scatter3d": [
           {
            "line": {
             "colorbar": {
              "outlinewidth": 0,
              "ticks": ""
             }
            },
            "marker": {
             "colorbar": {
              "outlinewidth": 0,
              "ticks": ""
             }
            },
            "type": "scatter3d"
           }
          ],
          "scattercarpet": [
           {
            "marker": {
             "colorbar": {
              "outlinewidth": 0,
              "ticks": ""
             }
            },
            "type": "scattercarpet"
           }
          ],
          "scattergeo": [
           {
            "marker": {
             "colorbar": {
              "outlinewidth": 0,
              "ticks": ""
             }
            },
            "type": "scattergeo"
           }
          ],
          "scattergl": [
           {
            "marker": {
             "colorbar": {
              "outlinewidth": 0,
              "ticks": ""
             }
            },
            "type": "scattergl"
           }
          ],
          "scattermapbox": [
           {
            "marker": {
             "colorbar": {
              "outlinewidth": 0,
              "ticks": ""
             }
            },
            "type": "scattermapbox"
           }
          ],
          "scatterpolar": [
           {
            "marker": {
             "colorbar": {
              "outlinewidth": 0,
              "ticks": ""
             }
            },
            "type": "scatterpolar"
           }
          ],
          "scatterpolargl": [
           {
            "marker": {
             "colorbar": {
              "outlinewidth": 0,
              "ticks": ""
             }
            },
            "type": "scatterpolargl"
           }
          ],
          "scatterternary": [
           {
            "marker": {
             "colorbar": {
              "outlinewidth": 0,
              "ticks": ""
             }
            },
            "type": "scatterternary"
           }
          ],
          "surface": [
           {
            "colorbar": {
             "outlinewidth": 0,
             "ticks": ""
            },
            "colorscale": [
             [
              0,
              "#0d0887"
             ],
             [
              0.1111111111111111,
              "#46039f"
             ],
             [
              0.2222222222222222,
              "#7201a8"
             ],
             [
              0.3333333333333333,
              "#9c179e"
             ],
             [
              0.4444444444444444,
              "#bd3786"
             ],
             [
              0.5555555555555556,
              "#d8576b"
             ],
             [
              0.6666666666666666,
              "#ed7953"
             ],
             [
              0.7777777777777778,
              "#fb9f3a"
             ],
             [
              0.8888888888888888,
              "#fdca26"
             ],
             [
              1,
              "#f0f921"
             ]
            ],
            "type": "surface"
           }
          ],
          "table": [
           {
            "cells": {
             "fill": {
              "color": "#EBF0F8"
             },
             "line": {
              "color": "white"
             }
            },
            "header": {
             "fill": {
              "color": "#C8D4E3"
             },
             "line": {
              "color": "white"
             }
            },
            "type": "table"
           }
          ]
         },
         "layout": {
          "annotationdefaults": {
           "arrowcolor": "#2a3f5f",
           "arrowhead": 0,
           "arrowwidth": 1
          },
          "autotypenumbers": "strict",
          "coloraxis": {
           "colorbar": {
            "outlinewidth": 0,
            "ticks": ""
           }
          },
          "colorscale": {
           "diverging": [
            [
             0,
             "#8e0152"
            ],
            [
             0.1,
             "#c51b7d"
            ],
            [
             0.2,
             "#de77ae"
            ],
            [
             0.3,
             "#f1b6da"
            ],
            [
             0.4,
             "#fde0ef"
            ],
            [
             0.5,
             "#f7f7f7"
            ],
            [
             0.6,
             "#e6f5d0"
            ],
            [
             0.7,
             "#b8e186"
            ],
            [
             0.8,
             "#7fbc41"
            ],
            [
             0.9,
             "#4d9221"
            ],
            [
             1,
             "#276419"
            ]
           ],
           "sequential": [
            [
             0,
             "#0d0887"
            ],
            [
             0.1111111111111111,
             "#46039f"
            ],
            [
             0.2222222222222222,
             "#7201a8"
            ],
            [
             0.3333333333333333,
             "#9c179e"
            ],
            [
             0.4444444444444444,
             "#bd3786"
            ],
            [
             0.5555555555555556,
             "#d8576b"
            ],
            [
             0.6666666666666666,
             "#ed7953"
            ],
            [
             0.7777777777777778,
             "#fb9f3a"
            ],
            [
             0.8888888888888888,
             "#fdca26"
            ],
            [
             1,
             "#f0f921"
            ]
           ],
           "sequentialminus": [
            [
             0,
             "#0d0887"
            ],
            [
             0.1111111111111111,
             "#46039f"
            ],
            [
             0.2222222222222222,
             "#7201a8"
            ],
            [
             0.3333333333333333,
             "#9c179e"
            ],
            [
             0.4444444444444444,
             "#bd3786"
            ],
            [
             0.5555555555555556,
             "#d8576b"
            ],
            [
             0.6666666666666666,
             "#ed7953"
            ],
            [
             0.7777777777777778,
             "#fb9f3a"
            ],
            [
             0.8888888888888888,
             "#fdca26"
            ],
            [
             1,
             "#f0f921"
            ]
           ]
          },
          "colorway": [
           "#636efa",
           "#EF553B",
           "#00cc96",
           "#ab63fa",
           "#FFA15A",
           "#19d3f3",
           "#FF6692",
           "#B6E880",
           "#FF97FF",
           "#FECB52"
          ],
          "font": {
           "color": "#2a3f5f"
          },
          "geo": {
           "bgcolor": "white",
           "lakecolor": "white",
           "landcolor": "#E5ECF6",
           "showlakes": true,
           "showland": true,
           "subunitcolor": "white"
          },
          "hoverlabel": {
           "align": "left"
          },
          "hovermode": "closest",
          "mapbox": {
           "style": "light"
          },
          "paper_bgcolor": "white",
          "plot_bgcolor": "#E5ECF6",
          "polar": {
           "angularaxis": {
            "gridcolor": "white",
            "linecolor": "white",
            "ticks": ""
           },
           "bgcolor": "#E5ECF6",
           "radialaxis": {
            "gridcolor": "white",
            "linecolor": "white",
            "ticks": ""
           }
          },
          "scene": {
           "xaxis": {
            "backgroundcolor": "#E5ECF6",
            "gridcolor": "white",
            "gridwidth": 2,
            "linecolor": "white",
            "showbackground": true,
            "ticks": "",
            "zerolinecolor": "white"
           },
           "yaxis": {
            "backgroundcolor": "#E5ECF6",
            "gridcolor": "white",
            "gridwidth": 2,
            "linecolor": "white",
            "showbackground": true,
            "ticks": "",
            "zerolinecolor": "white"
           },
           "zaxis": {
            "backgroundcolor": "#E5ECF6",
            "gridcolor": "white",
            "gridwidth": 2,
            "linecolor": "white",
            "showbackground": true,
            "ticks": "",
            "zerolinecolor": "white"
           }
          },
          "shapedefaults": {
           "line": {
            "color": "#2a3f5f"
           }
          },
          "ternary": {
           "aaxis": {
            "gridcolor": "white",
            "linecolor": "white",
            "ticks": ""
           },
           "baxis": {
            "gridcolor": "white",
            "linecolor": "white",
            "ticks": ""
           },
           "bgcolor": "#E5ECF6",
           "caxis": {
            "gridcolor": "white",
            "linecolor": "white",
            "ticks": ""
           }
          },
          "title": {
           "x": 0.05
          },
          "xaxis": {
           "automargin": true,
           "gridcolor": "white",
           "linecolor": "white",
           "ticks": "",
           "title": {
            "standoff": 15
           },
           "zerolinecolor": "white",
           "zerolinewidth": 2
          },
          "yaxis": {
           "automargin": true,
           "gridcolor": "white",
           "linecolor": "white",
           "ticks": "",
           "title": {
            "standoff": 15
           },
           "zerolinecolor": "white",
           "zerolinewidth": 2
          }
         }
        },
        "title": {
         "font": {
          "family": "Avenir",
          "size": 25
         },
         "text": "<b>DPI by Strategy and Vintage Year</b>",
         "x": 0.5,
         "xanchor": "center",
         "y": 0.95,
         "yanchor": "top"
        },
        "xaxis": {
         "dtick": 1,
         "gridcolor": "lightgrey",
         "title": {
          "text": "Vintage Year"
         }
        },
        "yaxis": {
         "gridcolor": "lightgrey",
         "rangemode": "nonnegative",
         "tickformat": ".2f",
         "ticksuffix": "x",
         "title": {
          "text": "DPI (Distributed to Paid-In Multiple)"
         }
        }
       }
      }
     },
     "metadata": {},
     "output_type": "display_data"
    }
   ],
   "source": [
    "figures[\"strategy_dpi\"].show()\n",
    "\n"
   ]
  },
  {
   "cell_type": "code",
   "execution_count": 155,
   "metadata": {},
   "outputs": [
    {
     "data": {
      "application/vnd.plotly.v1+json": {
       "config": {
        "plotlyServerURL": "https://plot.ly"
       },
       "data": [
        {
         "hovertemplate": "Year: %{x}<br>Weighted IRR: %{y:.1f}%<br><extra></extra>",
         "line": {
          "color": "rgb(30,144,255)",
          "width": 2
         },
         "marker": {
          "size": 8
         },
         "mode": "lines+markers+text",
         "name": "Venture Capital",
         "text": [
          "30.6%",
          "-5.9%",
          "-0.4%",
          "-2.5%",
          "6.5%",
          "7.6%",
          "0.6%",
          "25.7%",
          "22.8%",
          "16.7%",
          "12.8%",
          "14.2%",
          "38.3%",
          "9.7%",
          "11.5%",
          "25.5%",
          "10.2%",
          "25.5%",
          "8.4%",
          "10.1%",
          "2.9%",
          "8.8%",
          "-18.4%",
          "-14.6%"
         ],
         "textposition": "top center",
         "type": "scatter",
         "x": [
          1998,
          1999,
          2000,
          2001,
          2004,
          2005,
          2006,
          2007,
          2008,
          2009,
          2011,
          2012,
          2013,
          2014,
          2015,
          2016,
          2017,
          2018,
          2019,
          2020,
          2021,
          2022,
          2023,
          2024
         ],
         "y": [
          30.6,
          -5.91,
          -0.3852941176470588,
          -2.45,
          6.533724552033061,
          7.5579682161493515,
          0.5790610179312301,
          25.67,
          22.83285268687119,
          16.74,
          12.782302762649508,
          14.167031926916676,
          38.26,
          9.734612850486926,
          11.467297957877959,
          25.504832931972814,
          10.246008462612359,
          25.53599255043924,
          8.428361111793087,
          10.09,
          2.8643053764426853,
          8.837987912787653,
          -18.4,
          -14.58
         ]
        },
        {
         "hovertemplate": "Year: %{x}<br>Weighted IRR: %{y:.1f}%<br><extra></extra>",
         "line": {
          "color": "rgb(60,179,113)",
          "width": 2
         },
         "marker": {
          "size": 8
         },
         "mode": "lines+markers+text",
         "name": "Growth Equity",
         "text": [
          "11.5%",
          "12.1%",
          "18.5%",
          "24.5%",
          "16.5%",
          "20.7%",
          "11.8%",
          "23.8%",
          "27.3%",
          "25.2%",
          "17.9%",
          "26.9%",
          "25.2%",
          "13.4%",
          "4.3%",
          "0.0%",
          "3.8%",
          "-3.9%"
         ],
         "textposition": "top center",
         "type": "scatter",
         "x": [
          2007,
          2008,
          2009,
          2010,
          2011,
          2012,
          2013,
          2014,
          2015,
          2016,
          2017,
          2018,
          2019,
          2020,
          2021,
          2022,
          2023,
          2024
         ],
         "y": [
          11.53,
          12.107925218613405,
          18.5,
          24.459410060504077,
          16.456458067672433,
          20.702568356928793,
          11.8,
          23.766919587898528,
          27.3,
          25.18781329715372,
          17.916165517587146,
          26.94294921729174,
          25.15266040016645,
          13.388065408215438,
          4.258114073720183,
          0.005732776867240608,
          3.79787439231265,
          -3.86
         ]
        },
        {
         "hovertemplate": "Year: %{x}<br>Weighted IRR: %{y:.1f}%<br><extra></extra>",
         "line": {
          "color": "rgb(200,30,30)",
          "width": 2
         },
         "marker": {
          "size": 8
         },
         "mode": "lines+markers+text",
         "name": "Private Equity",
         "text": [
          "3.3%",
          "18.5%",
          "35.0%",
          "15.3%",
          "24.5%",
          "8.0%",
          "8.4%",
          "8.4%",
          "12.4%",
          "9.5%",
          "31.8%",
          "10.0%",
          "16.8%",
          "15.3%",
          "16.5%",
          "14.7%",
          "15.5%",
          "16.9%",
          "17.7%",
          "15.6%",
          "13.9%",
          "13.2%",
          "11.0%",
          "8.7%",
          "4.3%"
         ],
         "textposition": "top center",
         "type": "scatter",
         "x": [
          1999,
          2000,
          2001,
          2003,
          2004,
          2005,
          2006,
          2007,
          2008,
          2009,
          2010,
          2011,
          2012,
          2013,
          2014,
          2015,
          2016,
          2017,
          2018,
          2019,
          2020,
          2021,
          2022,
          2023,
          2024
         ],
         "y": [
          3.2586299144950917,
          18.47260706605133,
          35.01722963843417,
          15.259286835857303,
          24.490804498741237,
          7.9682401042803885,
          8.391084369698397,
          8.395391192823505,
          12.378188603378426,
          9.47045215554232,
          31.79,
          10.019680741030037,
          16.82890601344577,
          15.293965805287451,
          16.498867153103177,
          14.684279548420552,
          15.47539679231496,
          16.886523913795788,
          17.72230646823211,
          15.606596077536281,
          13.880820518513977,
          13.17450642456356,
          10.994706534721963,
          8.726476055376242,
          4.275886939818295
         ]
        }
       ],
       "layout": {
        "height": 800,
        "legend": {
         "font": {
          "family": "Avenir",
          "size": 14
         },
         "orientation": "h",
         "x": 0.5,
         "xanchor": "center",
         "y": -0.15,
         "yanchor": "bottom"
        },
        "margin": {
         "b": 50,
         "l": 50,
         "r": 50,
         "t": 100
        },
        "plot_bgcolor": "white",
        "showlegend": true,
        "template": {
         "data": {
          "bar": [
           {
            "error_x": {
             "color": "#2a3f5f"
            },
            "error_y": {
             "color": "#2a3f5f"
            },
            "marker": {
             "line": {
              "color": "#E5ECF6",
              "width": 0.5
             },
             "pattern": {
              "fillmode": "overlay",
              "size": 10,
              "solidity": 0.2
             }
            },
            "type": "bar"
           }
          ],
          "barpolar": [
           {
            "marker": {
             "line": {
              "color": "#E5ECF6",
              "width": 0.5
             },
             "pattern": {
              "fillmode": "overlay",
              "size": 10,
              "solidity": 0.2
             }
            },
            "type": "barpolar"
           }
          ],
          "carpet": [
           {
            "aaxis": {
             "endlinecolor": "#2a3f5f",
             "gridcolor": "white",
             "linecolor": "white",
             "minorgridcolor": "white",
             "startlinecolor": "#2a3f5f"
            },
            "baxis": {
             "endlinecolor": "#2a3f5f",
             "gridcolor": "white",
             "linecolor": "white",
             "minorgridcolor": "white",
             "startlinecolor": "#2a3f5f"
            },
            "type": "carpet"
           }
          ],
          "choropleth": [
           {
            "colorbar": {
             "outlinewidth": 0,
             "ticks": ""
            },
            "type": "choropleth"
           }
          ],
          "contour": [
           {
            "colorbar": {
             "outlinewidth": 0,
             "ticks": ""
            },
            "colorscale": [
             [
              0,
              "#0d0887"
             ],
             [
              0.1111111111111111,
              "#46039f"
             ],
             [
              0.2222222222222222,
              "#7201a8"
             ],
             [
              0.3333333333333333,
              "#9c179e"
             ],
             [
              0.4444444444444444,
              "#bd3786"
             ],
             [
              0.5555555555555556,
              "#d8576b"
             ],
             [
              0.6666666666666666,
              "#ed7953"
             ],
             [
              0.7777777777777778,
              "#fb9f3a"
             ],
             [
              0.8888888888888888,
              "#fdca26"
             ],
             [
              1,
              "#f0f921"
             ]
            ],
            "type": "contour"
           }
          ],
          "contourcarpet": [
           {
            "colorbar": {
             "outlinewidth": 0,
             "ticks": ""
            },
            "type": "contourcarpet"
           }
          ],
          "heatmap": [
           {
            "colorbar": {
             "outlinewidth": 0,
             "ticks": ""
            },
            "colorscale": [
             [
              0,
              "#0d0887"
             ],
             [
              0.1111111111111111,
              "#46039f"
             ],
             [
              0.2222222222222222,
              "#7201a8"
             ],
             [
              0.3333333333333333,
              "#9c179e"
             ],
             [
              0.4444444444444444,
              "#bd3786"
             ],
             [
              0.5555555555555556,
              "#d8576b"
             ],
             [
              0.6666666666666666,
              "#ed7953"
             ],
             [
              0.7777777777777778,
              "#fb9f3a"
             ],
             [
              0.8888888888888888,
              "#fdca26"
             ],
             [
              1,
              "#f0f921"
             ]
            ],
            "type": "heatmap"
           }
          ],
          "heatmapgl": [
           {
            "colorbar": {
             "outlinewidth": 0,
             "ticks": ""
            },
            "colorscale": [
             [
              0,
              "#0d0887"
             ],
             [
              0.1111111111111111,
              "#46039f"
             ],
             [
              0.2222222222222222,
              "#7201a8"
             ],
             [
              0.3333333333333333,
              "#9c179e"
             ],
             [
              0.4444444444444444,
              "#bd3786"
             ],
             [
              0.5555555555555556,
              "#d8576b"
             ],
             [
              0.6666666666666666,
              "#ed7953"
             ],
             [
              0.7777777777777778,
              "#fb9f3a"
             ],
             [
              0.8888888888888888,
              "#fdca26"
             ],
             [
              1,
              "#f0f921"
             ]
            ],
            "type": "heatmapgl"
           }
          ],
          "histogram": [
           {
            "marker": {
             "pattern": {
              "fillmode": "overlay",
              "size": 10,
              "solidity": 0.2
             }
            },
            "type": "histogram"
           }
          ],
          "histogram2d": [
           {
            "colorbar": {
             "outlinewidth": 0,
             "ticks": ""
            },
            "colorscale": [
             [
              0,
              "#0d0887"
             ],
             [
              0.1111111111111111,
              "#46039f"
             ],
             [
              0.2222222222222222,
              "#7201a8"
             ],
             [
              0.3333333333333333,
              "#9c179e"
             ],
             [
              0.4444444444444444,
              "#bd3786"
             ],
             [
              0.5555555555555556,
              "#d8576b"
             ],
             [
              0.6666666666666666,
              "#ed7953"
             ],
             [
              0.7777777777777778,
              "#fb9f3a"
             ],
             [
              0.8888888888888888,
              "#fdca26"
             ],
             [
              1,
              "#f0f921"
             ]
            ],
            "type": "histogram2d"
           }
          ],
          "histogram2dcontour": [
           {
            "colorbar": {
             "outlinewidth": 0,
             "ticks": ""
            },
            "colorscale": [
             [
              0,
              "#0d0887"
             ],
             [
              0.1111111111111111,
              "#46039f"
             ],
             [
              0.2222222222222222,
              "#7201a8"
             ],
             [
              0.3333333333333333,
              "#9c179e"
             ],
             [
              0.4444444444444444,
              "#bd3786"
             ],
             [
              0.5555555555555556,
              "#d8576b"
             ],
             [
              0.6666666666666666,
              "#ed7953"
             ],
             [
              0.7777777777777778,
              "#fb9f3a"
             ],
             [
              0.8888888888888888,
              "#fdca26"
             ],
             [
              1,
              "#f0f921"
             ]
            ],
            "type": "histogram2dcontour"
           }
          ],
          "mesh3d": [
           {
            "colorbar": {
             "outlinewidth": 0,
             "ticks": ""
            },
            "type": "mesh3d"
           }
          ],
          "parcoords": [
           {
            "line": {
             "colorbar": {
              "outlinewidth": 0,
              "ticks": ""
             }
            },
            "type": "parcoords"
           }
          ],
          "pie": [
           {
            "automargin": true,
            "type": "pie"
           }
          ],
          "scatter": [
           {
            "fillpattern": {
             "fillmode": "overlay",
             "size": 10,
             "solidity": 0.2
            },
            "type": "scatter"
           }
          ],
          "scatter3d": [
           {
            "line": {
             "colorbar": {
              "outlinewidth": 0,
              "ticks": ""
             }
            },
            "marker": {
             "colorbar": {
              "outlinewidth": 0,
              "ticks": ""
             }
            },
            "type": "scatter3d"
           }
          ],
          "scattercarpet": [
           {
            "marker": {
             "colorbar": {
              "outlinewidth": 0,
              "ticks": ""
             }
            },
            "type": "scattercarpet"
           }
          ],
          "scattergeo": [
           {
            "marker": {
             "colorbar": {
              "outlinewidth": 0,
              "ticks": ""
             }
            },
            "type": "scattergeo"
           }
          ],
          "scattergl": [
           {
            "marker": {
             "colorbar": {
              "outlinewidth": 0,
              "ticks": ""
             }
            },
            "type": "scattergl"
           }
          ],
          "scattermapbox": [
           {
            "marker": {
             "colorbar": {
              "outlinewidth": 0,
              "ticks": ""
             }
            },
            "type": "scattermapbox"
           }
          ],
          "scatterpolar": [
           {
            "marker": {
             "colorbar": {
              "outlinewidth": 0,
              "ticks": ""
             }
            },
            "type": "scatterpolar"
           }
          ],
          "scatterpolargl": [
           {
            "marker": {
             "colorbar": {
              "outlinewidth": 0,
              "ticks": ""
             }
            },
            "type": "scatterpolargl"
           }
          ],
          "scatterternary": [
           {
            "marker": {
             "colorbar": {
              "outlinewidth": 0,
              "ticks": ""
             }
            },
            "type": "scatterternary"
           }
          ],
          "surface": [
           {
            "colorbar": {
             "outlinewidth": 0,
             "ticks": ""
            },
            "colorscale": [
             [
              0,
              "#0d0887"
             ],
             [
              0.1111111111111111,
              "#46039f"
             ],
             [
              0.2222222222222222,
              "#7201a8"
             ],
             [
              0.3333333333333333,
              "#9c179e"
             ],
             [
              0.4444444444444444,
              "#bd3786"
             ],
             [
              0.5555555555555556,
              "#d8576b"
             ],
             [
              0.6666666666666666,
              "#ed7953"
             ],
             [
              0.7777777777777778,
              "#fb9f3a"
             ],
             [
              0.8888888888888888,
              "#fdca26"
             ],
             [
              1,
              "#f0f921"
             ]
            ],
            "type": "surface"
           }
          ],
          "table": [
           {
            "cells": {
             "fill": {
              "color": "#EBF0F8"
             },
             "line": {
              "color": "white"
             }
            },
            "header": {
             "fill": {
              "color": "#C8D4E3"
             },
             "line": {
              "color": "white"
             }
            },
            "type": "table"
           }
          ]
         },
         "layout": {
          "annotationdefaults": {
           "arrowcolor": "#2a3f5f",
           "arrowhead": 0,
           "arrowwidth": 1
          },
          "autotypenumbers": "strict",
          "coloraxis": {
           "colorbar": {
            "outlinewidth": 0,
            "ticks": ""
           }
          },
          "colorscale": {
           "diverging": [
            [
             0,
             "#8e0152"
            ],
            [
             0.1,
             "#c51b7d"
            ],
            [
             0.2,
             "#de77ae"
            ],
            [
             0.3,
             "#f1b6da"
            ],
            [
             0.4,
             "#fde0ef"
            ],
            [
             0.5,
             "#f7f7f7"
            ],
            [
             0.6,
             "#e6f5d0"
            ],
            [
             0.7,
             "#b8e186"
            ],
            [
             0.8,
             "#7fbc41"
            ],
            [
             0.9,
             "#4d9221"
            ],
            [
             1,
             "#276419"
            ]
           ],
           "sequential": [
            [
             0,
             "#0d0887"
            ],
            [
             0.1111111111111111,
             "#46039f"
            ],
            [
             0.2222222222222222,
             "#7201a8"
            ],
            [
             0.3333333333333333,
             "#9c179e"
            ],
            [
             0.4444444444444444,
             "#bd3786"
            ],
            [
             0.5555555555555556,
             "#d8576b"
            ],
            [
             0.6666666666666666,
             "#ed7953"
            ],
            [
             0.7777777777777778,
             "#fb9f3a"
            ],
            [
             0.8888888888888888,
             "#fdca26"
            ],
            [
             1,
             "#f0f921"
            ]
           ],
           "sequentialminus": [
            [
             0,
             "#0d0887"
            ],
            [
             0.1111111111111111,
             "#46039f"
            ],
            [
             0.2222222222222222,
             "#7201a8"
            ],
            [
             0.3333333333333333,
             "#9c179e"
            ],
            [
             0.4444444444444444,
             "#bd3786"
            ],
            [
             0.5555555555555556,
             "#d8576b"
            ],
            [
             0.6666666666666666,
             "#ed7953"
            ],
            [
             0.7777777777777778,
             "#fb9f3a"
            ],
            [
             0.8888888888888888,
             "#fdca26"
            ],
            [
             1,
             "#f0f921"
            ]
           ]
          },
          "colorway": [
           "#636efa",
           "#EF553B",
           "#00cc96",
           "#ab63fa",
           "#FFA15A",
           "#19d3f3",
           "#FF6692",
           "#B6E880",
           "#FF97FF",
           "#FECB52"
          ],
          "font": {
           "color": "#2a3f5f"
          },
          "geo": {
           "bgcolor": "white",
           "lakecolor": "white",
           "landcolor": "#E5ECF6",
           "showlakes": true,
           "showland": true,
           "subunitcolor": "white"
          },
          "hoverlabel": {
           "align": "left"
          },
          "hovermode": "closest",
          "mapbox": {
           "style": "light"
          },
          "paper_bgcolor": "white",
          "plot_bgcolor": "#E5ECF6",
          "polar": {
           "angularaxis": {
            "gridcolor": "white",
            "linecolor": "white",
            "ticks": ""
           },
           "bgcolor": "#E5ECF6",
           "radialaxis": {
            "gridcolor": "white",
            "linecolor": "white",
            "ticks": ""
           }
          },
          "scene": {
           "xaxis": {
            "backgroundcolor": "#E5ECF6",
            "gridcolor": "white",
            "gridwidth": 2,
            "linecolor": "white",
            "showbackground": true,
            "ticks": "",
            "zerolinecolor": "white"
           },
           "yaxis": {
            "backgroundcolor": "#E5ECF6",
            "gridcolor": "white",
            "gridwidth": 2,
            "linecolor": "white",
            "showbackground": true,
            "ticks": "",
            "zerolinecolor": "white"
           },
           "zaxis": {
            "backgroundcolor": "#E5ECF6",
            "gridcolor": "white",
            "gridwidth": 2,
            "linecolor": "white",
            "showbackground": true,
            "ticks": "",
            "zerolinecolor": "white"
           }
          },
          "shapedefaults": {
           "line": {
            "color": "#2a3f5f"
           }
          },
          "ternary": {
           "aaxis": {
            "gridcolor": "white",
            "linecolor": "white",
            "ticks": ""
           },
           "baxis": {
            "gridcolor": "white",
            "linecolor": "white",
            "ticks": ""
           },
           "bgcolor": "#E5ECF6",
           "caxis": {
            "gridcolor": "white",
            "linecolor": "white",
            "ticks": ""
           }
          },
          "title": {
           "x": 0.05
          },
          "xaxis": {
           "automargin": true,
           "gridcolor": "white",
           "linecolor": "white",
           "ticks": "",
           "title": {
            "standoff": 15
           },
           "zerolinecolor": "white",
           "zerolinewidth": 2
          },
          "yaxis": {
           "automargin": true,
           "gridcolor": "white",
           "linecolor": "white",
           "ticks": "",
           "title": {
            "standoff": 15
           },
           "zerolinecolor": "white",
           "zerolinewidth": 2
          }
         }
        },
        "title": {
         "font": {
          "family": "Avenir",
          "size": 25
         },
         "text": "<b>Weighted IRR by Strategy and Vintage Year</b>",
         "x": 0.5,
         "xanchor": "center",
         "y": 0.95,
         "yanchor": "top"
        },
        "xaxis": {
         "dtick": 1,
         "gridcolor": "lightgrey",
         "title": {
          "text": "Vintage Year"
         }
        },
        "yaxis": {
         "gridcolor": "lightgrey",
         "tickformat": ".2f",
         "ticksuffix": "%",
         "title": {
          "text": "Weighted IRR (%)"
         },
         "zeroline": true,
         "zerolinecolor": "black",
         "zerolinewidth": 1
        }
       }
      }
     },
     "metadata": {},
     "output_type": "display_data"
    }
   ],
   "source": [
    "figures[\"strategy_irr\"].show()"
   ]
  },
  {
   "cell_type": "code",
   "execution_count": 59,
   "metadata": {},
   "outputs": [
    {
     "name": "stdout",
     "output_type": "stream",
     "text": [
      "Total Capital Distributed: $43.9B\n",
      "Total Capital Contributed: $28.0B\n",
      "Total DPI: 1.57x\n"
     ]
    }
   ],
   "source": [
    "mask = (df['VY'] >= 1998) & (df['VY'] <= 2013)\n",
    "filtered_df = df[mask]\n",
    "\n",
    "# Calculate totals \n",
    "total_distributed = filtered_df['Capital Distributed'].sum()\n",
    "total_contributed = filtered_df['Capital Contributed'].sum()\n",
    "\n",
    "# Print in billions and calculate DPI\n",
    "print(f\"Total Capital Distributed: ${total_distributed/1e9:.1f}B\")\n",
    "print(f\"Total Capital Contributed: ${total_contributed/1e9:.1f}B\")\n",
    "print(f\"Total DPI: {total_distributed/total_contributed:.2f}x\")"
   ]
  },
  {
   "cell_type": "code",
   "execution_count": 62,
   "metadata": {},
   "outputs": [
    {
     "name": "stdout",
     "output_type": "stream",
     "text": [
      "Total Capital Distributed: $21.0B\n",
      "Total Capital Contributed: $39.3B\n",
      "Total DPI: 1.54x\n"
     ]
    }
   ],
   "source": [
    "mask = (df['VY'] > 2013) \n",
    "filtered_df = df[mask]\n",
    "\n",
    "# Calculate totals \n",
    "total_distributed = filtered_df['Capital Distributed'].sum()\n",
    "total_contributed = filtered_df['Capital Contributed'].sum()\n",
    "total_market_value = filtered_df['Market Value'].sum()\n",
    "\n",
    "# Print in billions and calculate DPI\n",
    "print(f\"Total Capital Distributed: ${total_distributed/1e9:.1f}B\")\n",
    "print(f\"Total Capital Contributed: ${total_contributed/1e9:.1f}B\")\n",
    "print(f\"Total DPI: {(total_distributed + total_market_value)/total_contributed:.2f}x\")"
   ]
  },
  {
   "cell_type": "code",
   "execution_count": null,
   "metadata": {},
   "outputs": [],
   "source": []
  }
 ],
 "metadata": {
  "kernelspec": {
   "display_name": "Python 3",
   "language": "python",
   "name": "python3"
  },
  "language_info": {
   "codemirror_mode": {
    "name": "ipython",
    "version": 3
   },
   "file_extension": ".py",
   "mimetype": "text/x-python",
   "name": "python",
   "nbconvert_exporter": "python",
   "pygments_lexer": "ipython3",
   "version": "3.11.6"
  }
 },
 "nbformat": 4,
 "nbformat_minor": 2
}
